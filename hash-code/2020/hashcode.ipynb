{
 "cells": [
  {
   "cell_type": "markdown",
   "metadata": {},
   "source": [
    "## Hashcode 2020\n",
    "* [python ortools pydocs](http://google.github.io/or-tools/python/ortools/sat/python/cp_model.html)\n",
    "* [ortools](https://developers.google.com/optimization)\n",
    "* [pasta da drive para partilhar ficheiros](https://drive.google.com/drive/folders/16XIgXDo4Wc7n9SKGWluiDWh14Bj80jzj?usp=sharing)\n",
    "* [ficheiro para partilhar código](https://hackmd.io/@uF52lgbgRgWtB4sRxmbSNA/rJqMxIsQU/edit)\n",
    "* [ortool docs](https://developers.google.com/optimization/reference/python/index_python)\n",
    "* [sat solver examples](https://github.com/google/or-tools/blob/master/ortools/sat/doc/solver.md)\n",
    "* [solution hinting ortools](https://github.com/google/or-tools/blob/master/ortools/sat/doc/model.md)"
   ]
  },
  {
   "cell_type": "markdown",
   "metadata": {},
   "source": [
    "### Imports"
   ]
  },
  {
   "cell_type": "code",
   "execution_count": 1,
   "metadata": {},
   "outputs": [],
   "source": [
    "# import dask\n",
    "import pandas as pd\n",
    "import numpy as np\n",
    "from tqdm import tqdm\n",
    "import os, collections\n",
    "from collections import defaultdict\n",
    "import math\n",
    "import random"
   ]
  },
  {
   "cell_type": "code",
   "execution_count": 2,
   "metadata": {},
   "outputs": [],
   "source": [
    "from utils import *"
   ]
  },
  {
   "cell_type": "code",
   "execution_count": 3,
   "metadata": {},
   "outputs": [],
   "source": [
    "# import ortools\n",
    "# from ortools.sat.python import cp_model"
   ]
  },
  {
   "cell_type": "code",
   "execution_count": 4,
   "metadata": {},
   "outputs": [],
   "source": [
    "from IPython.display import FileLink"
   ]
  },
  {
   "cell_type": "markdown",
   "metadata": {},
   "source": [
    "### Some functions\n",
    "```python\n",
    "def write_file(filename, contents=\"\", mode=\"w\")\n",
    "def append_file(filename, contents=\"\")\n",
    "def read_file(filename) -> str with all contents\n",
    "def read_file_it(filename) -> iterator for file lines\n",
    "def mints(line) -> split line by space and map str to int\n",
    "def lints(line) -> \"1 2 3 4\" -> [1, 2, 3, 4]\n",
    "```\n",
    "Printing\n",
    "\n",
    "```python\n",
    "def printL(l): # print a list one element per line\n",
    "def printD(d): # print a dict one pair per line\n",
    "```"
   ]
  },
  {
   "cell_type": "markdown",
   "metadata": {},
   "source": [
    "### Helper functions"
   ]
  },
  {
   "cell_type": "code",
   "execution_count": 10,
   "metadata": {},
   "outputs": [
    {
     "name": "stdout",
     "output_type": "stream",
     "text": [
      "e.txt\n",
      "c.txt\n",
      "d.txt\n",
      "a.txt\n",
      "f.txt\n",
      "b.txt\n"
     ]
    }
   ],
   "source": [
    "# Get in files into variables A, B, C, D, E\n",
    "in_files = [f for f in os.listdir(\".\") if f[-4:]==\".txt\"]\n",
    "A,B,C,D,E,F = tuple(in_files)\n",
    "printL(in_files)"
   ]
  },
  {
   "cell_type": "code",
   "execution_count": 11,
   "metadata": {},
   "outputs": [],
   "source": [
    "def solve_meta(fn, solution_func):\n",
    "    data = parse_data(fn)\n",
    "    res = solution_func(fn, *data)\n",
    "    output_solution(fn, res)\n",
    "    return res"
   ]
  },
  {
   "cell_type": "code",
   "execution_count": 12,
   "metadata": {},
   "outputs": [],
   "source": [
    "def solve_one(file, func):\n",
    "    print(\"Solving %s...\" % file)\n",
    "    solve_meta(file, func)\n",
    "    print(\"...Done\")    "
   ]
  },
  {
   "cell_type": "code",
   "execution_count": 13,
   "metadata": {},
   "outputs": [],
   "source": [
    "def solve_all():\n",
    "    problems = {\n",
    "        A: solve, # different files can have different solve functions\n",
    "        B: solve,\n",
    "        C: solve,\n",
    "        D: solve,\n",
    "        E: solve,\n",
    "        F: solve\n",
    "    }\n",
    "    for file, func in problems.items():\n",
    "        solve_one(file, func)"
   ]
  },
  {
   "cell_type": "markdown",
   "metadata": {},
   "source": [
    "### Custom methods\n",
    "```python\n",
    "def output_solution(fn, res)\n",
    "def parse_data(fn)\n",
    "def solve(*args)\n",
    "```"
   ]
  },
  {
   "cell_type": "code",
   "execution_count": 14,
   "metadata": {},
   "outputs": [],
   "source": [
    "def parse_data(fn):\n",
    "    lines = read_file(fn).split(\"\\n\") # get all lines\n",
    "    duration, nintersections, nstreets, ncars, bonus = mints(lines[0]) # map of ints\n",
    "#     print(duration, nintersections, nstreets, ncars, bonus)\n",
    "    intersections = defaultdict(list) # intersection_id -> [list of incoming streets]\n",
    "    streets = {}\n",
    "    for l in lines[1:nstreets+1]:\n",
    "        _from, to, name, duration_street = l.split(\" \")\n",
    "        streets[name] = {\"from\": int(_from), \"to\": int(to), \"name\": name, \"duration\": int(duration_street)}\n",
    "        intersections[int(to)].append(name)\n",
    "#     print(streets)\n",
    "    \n",
    "    cars = []\n",
    "    for l in lines[nstreets+1:nstreets+ncars+1]:\n",
    "        parts = l.strip().split(\" \")\n",
    "        total_streets = int(parts[0])\n",
    "        street_names = parts[1:]\n",
    "        cars.append({\"total_streets\": total_streets, \"street_names\": street_names})\n",
    "        \n",
    "    return int(duration), int(nintersections), int(nstreets), int(ncars), bonus, streets, cars, intersections"
   ]
  },
  {
   "cell_type": "code",
   "execution_count": 22,
   "metadata": {},
   "outputs": [
    {
     "data": {
      "text/plain": [
       "[(2, 'b-c'),\n",
       " (4, 'd-e'),\n",
       " (6, 'f-g'),\n",
       " (8, 'h-i'),\n",
       " (10, 'j-ba'),\n",
       " (12, 'bb-bc'),\n",
       " (14, 'bd-be'),\n",
       " (16, 'bf-bg'),\n",
       " (18, 'bh-bi'),\n",
       " (20, 'bj-ca'),\n",
       " (22, 'cb-cc'),\n",
       " (24, 'cd-ce'),\n",
       " (26, 'cf-cg'),\n",
       " (28, 'ch-ci'),\n",
       " (30, 'cj-da'),\n",
       " (32, 'db-dc'),\n",
       " (34, 'dd-de'),\n",
       " (36, 'df-dg'),\n",
       " (38, 'dh-di'),\n",
       " (40, 'dj-ea'),\n",
       " (42, 'eb-ec'),\n",
       " (44, 'ed-ee'),\n",
       " (46, 'ef-eg'),\n",
       " (48, 'eh-ei'),\n",
       " (50, 'ej-fa'),\n",
       " (52, 'fb-fc'),\n",
       " (54, 'fd-fe'),\n",
       " (56, 'ff-fg'),\n",
       " (58, 'fh-fi'),\n",
       " (60, 'fj-ga'),\n",
       " (62, 'gb-gc'),\n",
       " (64, 'gd-ge'),\n",
       " (66, 'gf-gg'),\n",
       " (68, 'gh-gi'),\n",
       " (70, 'gj-ha'),\n",
       " (72, 'hb-hc'),\n",
       " (74, 'hd-he'),\n",
       " (76, 'hf-hg'),\n",
       " (78, 'hh-hi'),\n",
       " (80, 'hj-ia'),\n",
       " (82, 'ib-ic'),\n",
       " (84, 'id-ie'),\n",
       " (86, 'if-ig'),\n",
       " (88, 'ih-ii'),\n",
       " (90, 'ij-ja'),\n",
       " (92, 'jb-jc'),\n",
       " (94, 'jd-je'),\n",
       " (96, 'jf-jg'),\n",
       " (98, 'jh-ji'),\n",
       " (100, 'jj-baa'),\n",
       " (102, 'bab-bac'),\n",
       " (104, 'bad-bae'),\n",
       " (106, 'baf-bag'),\n",
       " (108, 'bah-bai'),\n",
       " (110, 'baj-bba'),\n",
       " (112, 'bbb-bbc'),\n",
       " (114, 'bbd-bbe'),\n",
       " (116, 'bbf-bbg'),\n",
       " (118, 'bbh-bbi'),\n",
       " (120, 'bbj-bca'),\n",
       " (122, 'bcb-bcc'),\n",
       " (124, 'bcd-bce'),\n",
       " (126, 'bcf-bcg'),\n",
       " (128, 'bch-bci'),\n",
       " (130, 'bcj-bda'),\n",
       " (132, 'bdb-bdc'),\n",
       " (134, 'bdd-bde'),\n",
       " (136, 'bdf-bdg'),\n",
       " (138, 'bdh-bdi'),\n",
       " (140, 'bdj-bea'),\n",
       " (142, 'beb-bec'),\n",
       " (144, 'bed-bee'),\n",
       " (146, 'bef-beg'),\n",
       " (148, 'beh-bei'),\n",
       " (150, 'bej-bfa'),\n",
       " (152, 'bfb-bfc'),\n",
       " (154, 'bfd-bfe'),\n",
       " (156, 'bff-bfg'),\n",
       " (158, 'bfh-bfi'),\n",
       " (160, 'bfj-bga'),\n",
       " (162, 'bgb-bgc'),\n",
       " (164, 'bgd-bge'),\n",
       " (166, 'bgf-bgg'),\n",
       " (168, 'bgh-bgi'),\n",
       " (170, 'bgj-bha'),\n",
       " (172, 'bhb-bhc'),\n",
       " (174, 'bhd-bhe'),\n",
       " (176, 'bhf-bhg'),\n",
       " (178, 'bhh-bhi'),\n",
       " (180, 'bhj-bia'),\n",
       " (182, 'bib-bic'),\n",
       " (184, 'bid-bie'),\n",
       " (186, 'bif-big'),\n",
       " (188, 'bih-bii'),\n",
       " (190, 'bij-bja'),\n",
       " (192, 'bjb-bjc'),\n",
       " (194, 'bjd-bje'),\n",
       " (196, 'bjf-bjg'),\n",
       " (198, 'bjh-bji'),\n",
       " (200, 'bjj-caa'),\n",
       " (202, 'cab-cac'),\n",
       " (204, 'cad-cae'),\n",
       " (206, 'caf-cag'),\n",
       " (208, 'cah-cai'),\n",
       " (210, 'caj-cba'),\n",
       " (212, 'cbb-cbc'),\n",
       " (214, 'cbd-cbe'),\n",
       " (216, 'cbf-cbg'),\n",
       " (218, 'cbh-cbi'),\n",
       " (220, 'cbj-cca'),\n",
       " (222, 'ccb-ccc'),\n",
       " (224, 'ccd-cce'),\n",
       " (226, 'ccf-ccg'),\n",
       " (228, 'cch-cci'),\n",
       " (230, 'ccj-cda'),\n",
       " (232, 'cdb-cdc'),\n",
       " (234, 'cdd-cde'),\n",
       " (236, 'cdf-cdg'),\n",
       " (238, 'cdh-cdi'),\n",
       " (240, 'cdj-cea'),\n",
       " (242, 'ceb-cec'),\n",
       " (244, 'ced-cee'),\n",
       " (246, 'cef-ceg'),\n",
       " (248, 'ceh-cei'),\n",
       " (250, 'cej-cfa'),\n",
       " (252, 'cfb-cfc'),\n",
       " (254, 'cfd-cfe'),\n",
       " (256, 'cff-cfg'),\n",
       " (258, 'cfh-cfi'),\n",
       " (260, 'cfj-cga'),\n",
       " (262, 'cgb-cgc'),\n",
       " (264, 'cgd-cge'),\n",
       " (266, 'cgf-cgg'),\n",
       " (268, 'cgh-cgi'),\n",
       " (270, 'cgj-cha'),\n",
       " (272, 'chb-chc'),\n",
       " (274, 'chd-che'),\n",
       " (276, 'chf-chg'),\n",
       " (278, 'chh-chi'),\n",
       " (280, 'chj-cia'),\n",
       " (282, 'cib-cic'),\n",
       " (284, 'cid-cie'),\n",
       " (286, 'cif-cig'),\n",
       " (288, 'cih-cii'),\n",
       " (290, 'cij-cja'),\n",
       " (292, 'cjb-cjc'),\n",
       " (294, 'cjd-cje'),\n",
       " (296, 'cjf-cjg'),\n",
       " (298, 'cjh-cji'),\n",
       " (300, 'cjj-daa'),\n",
       " (302, 'dab-dac'),\n",
       " (304, 'dad-dae'),\n",
       " (306, 'daf-dag'),\n",
       " (308, 'dah-dai'),\n",
       " (310, 'daj-dba'),\n",
       " (312, 'dbb-dbc'),\n",
       " (314, 'dbd-dbe'),\n",
       " (316, 'dbf-dbg'),\n",
       " (318, 'dbh-dbi'),\n",
       " (320, 'dbj-dca'),\n",
       " (322, 'dcb-dcc'),\n",
       " (324, 'dcd-dce'),\n",
       " (326, 'dcf-dcg'),\n",
       " (328, 'dch-dci'),\n",
       " (330, 'dcj-dda'),\n",
       " (332, 'ddb-ddc'),\n",
       " (334, 'ddd-dde'),\n",
       " (336, 'ddf-ddg'),\n",
       " (338, 'ddh-ddi'),\n",
       " (340, 'ddj-dea'),\n",
       " (342, 'deb-dec'),\n",
       " (344, 'ded-dee'),\n",
       " (346, 'def-deg'),\n",
       " (348, 'deh-dei'),\n",
       " (350, 'dej-dfa'),\n",
       " (352, 'dfb-dfc'),\n",
       " (354, 'dfd-dfe'),\n",
       " (356, 'dff-dfg'),\n",
       " (358, 'dfh-dfi'),\n",
       " (360, 'dfj-dga'),\n",
       " (362, 'dgb-dgc'),\n",
       " (364, 'dgd-dge'),\n",
       " (366, 'dgf-dgg'),\n",
       " (368, 'dgh-dgi'),\n",
       " (370, 'dgj-dha'),\n",
       " (372, 'dhb-dhc'),\n",
       " (374, 'dhd-dhe'),\n",
       " (376, 'dhf-dhg'),\n",
       " (378, 'dhh-dhi'),\n",
       " (380, 'dhj-dia'),\n",
       " (382, 'dib-dic'),\n",
       " (384, 'did-die'),\n",
       " (386, 'dif-dig'),\n",
       " (388, 'dih-dii'),\n",
       " (390, 'dij-dja'),\n",
       " (392, 'djb-djc'),\n",
       " (394, 'djd-dje'),\n",
       " (396, 'djf-djg'),\n",
       " (398, 'djh-dji'),\n",
       " (400, 'djj-eaa'),\n",
       " (402, 'eab-eac'),\n",
       " (404, 'ead-eae'),\n",
       " (406, 'eaf-eag'),\n",
       " (408, 'eah-eai'),\n",
       " (410, 'eaj-eba'),\n",
       " (412, 'ebb-ebc'),\n",
       " (414, 'ebd-ebe'),\n",
       " (416, 'ebf-ebg'),\n",
       " (418, 'ebh-ebi'),\n",
       " (420, 'ebj-eca'),\n",
       " (422, 'ecb-ecc'),\n",
       " (424, 'ecd-ece'),\n",
       " (426, 'ecf-ecg'),\n",
       " (428, 'ech-eci'),\n",
       " (430, 'ecj-eda'),\n",
       " (432, 'edb-edc'),\n",
       " (434, 'edd-ede'),\n",
       " (436, 'edf-edg'),\n",
       " (438, 'edh-edi'),\n",
       " (440, 'edj-eea'),\n",
       " (442, 'eeb-eec'),\n",
       " (444, 'eed-eee'),\n",
       " (446, 'eef-eeg'),\n",
       " (448, 'eeh-eei'),\n",
       " (450, 'eej-efa'),\n",
       " (452, 'efb-efc'),\n",
       " (454, 'efd-efe'),\n",
       " (456, 'eff-efg'),\n",
       " (458, 'efh-efi'),\n",
       " (460, 'efj-ega'),\n",
       " (462, 'egb-egc'),\n",
       " (464, 'egd-ege'),\n",
       " (466, 'egf-egg'),\n",
       " (468, 'egh-egi'),\n",
       " (470, 'egj-eha'),\n",
       " (472, 'ehb-ehc'),\n",
       " (474, 'ehd-ehe'),\n",
       " (476, 'ehf-ehg'),\n",
       " (478, 'ehh-ehi'),\n",
       " (480, 'ehj-eia'),\n",
       " (482, 'eib-eic'),\n",
       " (484, 'eid-eie'),\n",
       " (486, 'eif-eig'),\n",
       " (488, 'eih-eii'),\n",
       " (490, 'eij-eja'),\n",
       " (492, 'ejb-ejc'),\n",
       " (494, 'ejd-eje'),\n",
       " (496, 'ejf-ejg'),\n",
       " (498, 'ejh-eji'),\n",
       " (0, 'eji-a')]"
      ]
     },
     "execution_count": 22,
     "metadata": {},
     "output_type": "execute_result"
    }
   ],
   "source": [
    "def always_green(streets):\n",
    "    # find intersections with only 1 ingoing street, meaning that traffic light can be always green\n",
    "    counter = defaultdict(int)\n",
    "    incoming_streets = defaultdict(list)\n",
    "    for name, s in streets.items():\n",
    "        counter[s[\"to\"]]+=1\n",
    "        incoming_streets[s[\"to\"]].append(name)\n",
    "\n",
    "#     return the intersection ids\n",
    "#     return [intersection for intersection, count in counter.items() if count==1]\n",
    "    # return the (intersection ids, street names)\n",
    "    return [(intersection, incoming_streets[intersection][0]) for intersection, count in counter.items() if count==1]\n",
    "always_green(streets)"
   ]
  },
  {
   "cell_type": "code",
   "execution_count": 16,
   "metadata": {},
   "outputs": [
    {
     "name": "stdout",
     "output_type": "stream",
     "text": [
      "[{'total_streets': 8, 'street_names': ['g-h', 'h-i', 'i-ejj', 'ejj-cd', 'cd-ce', 'ce-cf', 'cf-cg', 'cg-ch']}, {'total_streets': 10, 'street_names': ['i-ejj', 'ejj-dgj', 'dgj-dha', 'dha-dhb', 'dhb-dhc', 'dhc-dhd', 'dhd-dhe', 'dhe-dhf', 'dhf-dhg', 'dhg-dhh']}, {'total_streets': 5, 'street_names': ['eih-eii', 'eii-eij', 'eij-eja', 'eja-ejj', 'ejj-fb']}, {'total_streets': 4, 'street_names': ['be-ejj', 'ejj-bb', 'bb-bc', 'bc-bd']}, {'total_streets': 7, 'street_names': ['he-hf', 'hf-hg', 'hg-hh', 'hh-hi', 'hi-ejj', 'ejj-efh', 'efh-efi']}, {'total_streets': 10, 'street_names': ['ejj-bij', 'bij-bja', 'bja-bjb', 'bjb-bjc', 'bjc-bjd', 'bjd-bje', 'bje-bjf', 'bjf-bjg', 'bjg-bjh', 'bjh-bji']}, {'total_streets': 10, 'street_names': ['ha-hb', 'hb-hc', 'hc-hd', 'hd-he', 'he-hf', 'hf-hg', 'hg-ejj', 'ejj-bef', 'bef-beg', 'beg-beh']}, {'total_streets': 7, 'street_names': ['eih-eii', 'eii-ejj', 'ejj-dgf', 'dgf-dgg', 'dgg-dgh', 'dgh-dgi', 'dgi-dgj']}, {'total_streets': 5, 'street_names': ['ejj-dhh', 'dhh-dhi', 'dhi-dhj', 'dhj-dia', 'dia-dib']}, {'total_streets': 6, 'street_names': ['bha-ejj', 'ejj-cfj', 'cfj-cga', 'cga-cgb', 'cgb-cgc', 'cgc-cgd']}, {'total_streets': 9, 'street_names': ['deg-deh', 'deh-dei', 'dei-dej', 'dej-dfa', 'dfa-dfb', 'dfb-dfc', 'dfc-ejj', 'ejj-edf', 'edf-edg']}, {'total_streets': 10, 'street_names': ['efj-ega', 'ega-egb', 'egb-egc', 'egc-egd', 'egd-ege', 'ege-ejj', 'ejj-dih', 'dih-dii', 'dii-dij', 'dij-dja']}, {'total_streets': 9, 'street_names': ['ebj-eca', 'eca-ecb', 'ecb-ecc', 'ecc-ejj', 'ejj-cbh', 'cbh-cbi', 'cbi-cbj', 'cbj-cca', 'cca-ccb']}, {'total_streets': 5, 'street_names': ['cia-cib', 'cib-cic', 'cic-ejj', 'ejj-bgd', 'bgd-bge']}, {'total_streets': 6, 'street_names': ['che-chf', 'chf-chg', 'chg-ejj', 'ejj-bcb', 'bcb-bcc', 'bcc-bcd']}, {'total_streets': 10, 'street_names': ['bda-bdb', 'bdb-bdc', 'bdc-ejj', 'ejj-db', 'db-dc', 'dc-dd', 'dd-de', 'de-df', 'df-dg', 'dg-dh']}, {'total_streets': 5, 'street_names': ['je-ejj', 'ejj-db', 'db-dc', 'dc-dd', 'dd-de']}, {'total_streets': 4, 'street_names': ['dda-ejj', 'ejj-bfb', 'bfb-bfc', 'bfc-bfd']}, {'total_streets': 9, 'street_names': ['dj-ea', 'ea-eb', 'eb-ec', 'ec-ed', 'ed-ee', 'ee-ef', 'ef-eg', 'eg-ejj', 'ejj-bff']}, {'total_streets': 7, 'street_names': ['dge-ejj', 'ejj-hb', 'hb-hc', 'hc-hd', 'hd-he', 'he-hf', 'hf-hg']}, {'total_streets': 9, 'street_names': ['ejj-cdd', 'cdd-cde', 'cde-cdf', 'cdf-cdg', 'cdg-cdh', 'cdh-cdi', 'cdi-cdj', 'cdj-cea', 'cea-ceb']}, {'total_streets': 10, 'street_names': ['cae-ejj', 'ejj-bdh', 'bdh-bdi', 'bdi-bdj', 'bdj-bea', 'bea-beb', 'beb-bec', 'bec-bed', 'bed-bee', 'bee-bef']}, {'total_streets': 9, 'street_names': ['beg-beh', 'beh-bei', 'bei-ejj', 'ejj-eff', 'eff-efg', 'efg-efh', 'efh-efi', 'efi-efj', 'efj-ega']}, {'total_streets': 8, 'street_names': ['ejj-dif', 'dif-dig', 'dig-dih', 'dih-dii', 'dii-dij', 'dij-dja', 'dja-djb', 'djb-djc']}, {'total_streets': 4, 'street_names': ['ehe-ehf', 'ehf-ehg', 'ehg-ehh', 'ehh-ehi']}, {'total_streets': 10, 'street_names': ['ejj-bcj', 'bcj-bda', 'bda-bdb', 'bdb-bdc', 'bdc-bdd', 'bdd-bde', 'bde-bdf', 'bdf-bdg', 'bdg-bdh', 'bdh-bdi']}, {'total_streets': 2, 'street_names': ['df-dg', 'dg-ejj']}, {'total_streets': 6, 'street_names': ['ce-cf', 'cf-cg', 'cg-ejj', 'ejj-efh', 'efh-efi', 'efi-efj']}, {'total_streets': 3, 'street_names': ['gi-ejj', 'ejj-dih', 'dih-dii']}, {'total_streets': 8, 'street_names': ['dec-ded', 'ded-dee', 'dee-ejj', 'ejj-bjd', 'bjd-bje', 'bje-bjf', 'bjf-bjg', 'bjg-bjh']}, {'total_streets': 7, 'street_names': ['ejj-bij', 'bij-bja', 'bja-bjb', 'bjb-bjc', 'bjc-bjd', 'bjd-bje', 'bje-bjf']}, {'total_streets': 5, 'street_names': ['dg-ejj', 'ejj-dj', 'dj-ea', 'ea-eb', 'eb-ec']}, {'total_streets': 2, 'street_names': ['fe-ff', 'ff-fg']}, {'total_streets': 10, 'street_names': ['ceg-ceh', 'ceh-cei', 'cei-cej', 'cej-cfa', 'cfa-ejj', 'ejj-cjb', 'cjb-cjc', 'cjc-cjd', 'cjd-cje', 'cje-cjf']}, {'total_streets': 9, 'street_names': ['bhf-bhg', 'bhg-ejj', 'ejj-bej', 'bej-bfa', 'bfa-bfb', 'bfb-bfc', 'bfc-bfd', 'bfd-bfe', 'bfe-bff']}, {'total_streets': 5, 'street_names': ['def-deg', 'deg-deh', 'deh-dei', 'dei-dej', 'dej-dfa']}, {'total_streets': 4, 'street_names': ['egb-egc', 'egc-ejj', 'ejj-ccj', 'ccj-cda']}, {'total_streets': 5, 'street_names': ['dea-ejj', 'ejj-bfh', 'bfh-bfi', 'bfi-bfj', 'bfj-bga']}, {'total_streets': 4, 'street_names': ['dae-daf', 'daf-dag', 'dag-dah', 'dah-dai']}, {'total_streets': 7, 'street_names': ['ejj-dhd', 'dhd-dhe', 'dhe-dhf', 'dhf-dhg', 'dhg-dhh', 'dhh-dhi', 'dhi-dhj']}, {'total_streets': 6, 'street_names': ['dbi-dbj', 'dbj-dca', 'dca-ejj', 'ejj-bgh', 'bgh-bgi', 'bgi-bgj']}, {'total_streets': 7, 'street_names': ['ca-ejj', 'ejj-d', 'd-e', 'e-f', 'f-g', 'g-h', 'h-i']}, {'total_streets': 6, 'street_names': ['cde-ejj', 'ejj-did', 'did-die', 'die-dif', 'dif-dig', 'dig-dih']}, {'total_streets': 6, 'street_names': ['bhb-bhc', 'bhc-bhd', 'bhd-bhe', 'bhe-ejj', 'ejj-bff', 'bff-bfg']}, {'total_streets': 3, 'street_names': ['bff-bfg', 'bfg-bfh', 'bfh-bfi']}, {'total_streets': 9, 'street_names': ['bda-ejj', 'ejj-gj', 'gj-ha', 'ha-hb', 'hb-hc', 'hc-hd', 'hd-he', 'he-hf', 'hf-hg']}, {'total_streets': 2, 'street_names': ['ejj-dgb', 'dgb-dgc']}, {'total_streets': 8, 'street_names': ['egh-egi', 'egi-egj', 'egj-eha', 'eha-ehb', 'ehb-ehc', 'ehc-ehd', 'ehd-ehe', 'ehe-ehf']}, {'total_streets': 4, 'street_names': ['bdd-bde', 'bde-bdf', 'bdf-bdg', 'bdg-ejj']}, {'total_streets': 4, 'street_names': ['cej-cfa', 'cfa-ejj', 'ejj-cjd', 'cjd-cje']}, {'total_streets': 8, 'street_names': ['bac-ejj', 'ejj-caf', 'caf-cag', 'cag-cah', 'cah-cai', 'cai-caj', 'caj-cba', 'cba-cbb']}, {'total_streets': 7, 'street_names': ['cci-ejj', 'ejj-eb', 'eb-ec', 'ec-ed', 'ed-ee', 'ee-ef', 'ef-eg']}, {'total_streets': 7, 'street_names': ['baj-bba', 'bba-bbb', 'bbb-bbc', 'bbc-ejj', 'ejj-ejb', 'ejb-ejc', 'ejc-ejd']}, {'total_streets': 3, 'street_names': ['i-ejj', 'ejj-bgf', 'bgf-bgg']}, {'total_streets': 3, 'street_names': ['ejj-cgd', 'cgd-cge', 'cge-cgf']}, {'total_streets': 2, 'street_names': ['ejj-hf', 'hf-hg']}, {'total_streets': 4, 'street_names': ['dfh-dfi', 'dfi-dfj', 'dfj-dga', 'dga-dgb']}, {'total_streets': 7, 'street_names': ['bid-bie', 'bie-ejj', 'ejj-df', 'df-dg', 'dg-dh', 'dh-di', 'di-dj']}, {'total_streets': 10, 'street_names': ['ia-ib', 'ib-ic', 'ic-ejj', 'ejj-cff', 'cff-cfg', 'cfg-cfh', 'cfh-cfi', 'cfi-cfj', 'cfj-cga', 'cga-cgb']}, {'total_streets': 3, 'street_names': ['dcb-dcc', 'dcc-dcd', 'dcd-dce']}, {'total_streets': 3, 'street_names': ['bah-bai', 'bai-baj', 'baj-bba']}, {'total_streets': 8, 'street_names': ['ig-ejj', 'ejj-gb', 'gb-gc', 'gc-gd', 'gd-ge', 'ge-gf', 'gf-gg', 'gg-gh']}, {'total_streets': 2, 'street_names': ['ejj-ddb', 'ddb-ddc']}, {'total_streets': 9, 'street_names': ['dad-dae', 'dae-ejj', 'ejj-bfj', 'bfj-bga', 'bga-bgb', 'bgb-bgc', 'bgc-bgd', 'bgd-bge', 'bge-bgf']}, {'total_streets': 10, 'street_names': ['ejc-ejj', 'ejj-hj', 'hj-ia', 'ia-ib', 'ib-ic', 'ic-id', 'id-ie', 'ie-if', 'if-ig', 'ig-ih']}, {'total_streets': 5, 'street_names': ['bjj-caa', 'caa-ejj', 'ejj-chb', 'chb-chc', 'chc-chd']}, {'total_streets': 4, 'street_names': ['ejj-hd', 'hd-he', 'he-hf', 'hf-hg']}, {'total_streets': 7, 'street_names': ['dd-de', 'de-df', 'df-dg', 'dg-dh', 'dh-di', 'di-dj', 'dj-ea']}, {'total_streets': 5, 'street_names': ['edg-edh', 'edh-edi', 'edi-ejj', 'ejj-bib', 'bib-bic']}, {'total_streets': 4, 'street_names': ['bii-bij', 'bij-bja', 'bja-bjb', 'bjb-bjc']}, {'total_streets': 3, 'street_names': ['ded-dee', 'dee-def', 'def-deg']}, {'total_streets': 8, 'street_names': ['eij-eja', 'eja-ejb', 'ejb-ejc', 'ejc-ejd', 'ejd-eje', 'eje-ejf', 'ejf-ejg', 'ejg-ejj']}, {'total_streets': 3, 'street_names': ['fc-ejj', 'ejj-ejf', 'ejf-ejg']}, {'total_streets': 10, 'street_names': ['dcc-dcd', 'dcd-dce', 'dce-dcf', 'dcf-dcg', 'dcg-ejj', 'ejj-id', 'id-ie', 'ie-if', 'if-ig', 'ig-ih']}, {'total_streets': 9, 'street_names': ['cdi-cdj', 'cdj-cea', 'cea-ejj', 'ejj-dgf', 'dgf-dgg', 'dgg-dgh', 'dgh-dgi', 'dgi-dgj', 'dgj-dha']}, {'total_streets': 6, 'street_names': ['hh-hi', 'hi-hj', 'hj-ia', 'ia-ib', 'ib-ic', 'ic-id']}, {'total_streets': 9, 'street_names': ['bed-bee', 'bee-ejj', 'ejj-id', 'id-ie', 'ie-if', 'if-ig', 'ig-ih', 'ih-ii', 'ii-ij']}, {'total_streets': 9, 'street_names': ['dad-dae', 'dae-daf', 'daf-dag', 'dag-ejj', 'ejj-eff', 'eff-efg', 'efg-efh', 'efh-efi', 'efi-efj']}, {'total_streets': 6, 'street_names': ['ejj-dgj', 'dgj-dha', 'dha-dhb', 'dhb-dhc', 'dhc-dhd', 'dhd-dhe']}, {'total_streets': 8, 'street_names': ['dja-djb', 'djb-djc', 'djc-djd', 'djd-dje', 'dje-djf', 'djf-djg', 'djg-ejj', 'ejj-db']}, {'total_streets': 4, 'street_names': ['ejj-bjf', 'bjf-bjg', 'bjg-bjh', 'bjh-bji']}, {'total_streets': 5, 'street_names': ['ejj-cgd', 'cgd-cge', 'cge-cgf', 'cgf-cgg', 'cgg-cgh']}, {'total_streets': 6, 'street_names': ['be-bf', 'bf-bg', 'bg-bh', 'bh-bi', 'bi-ejj', 'ejj-beh']}, {'total_streets': 10, 'street_names': ['dcg-dch', 'dch-dci', 'dci-dcj', 'dcj-dda', 'dda-ddb', 'ddb-ddc', 'ddc-ddd', 'ddd-dde', 'dde-ddf', 'ddf-ddg']}, {'total_streets': 3, 'street_names': ['ehi-ejj', 'ejj-baj', 'baj-bba']}, {'total_streets': 4, 'street_names': ['ebb-ebc', 'ebc-ebd', 'ebd-ebe', 'ebe-ejj']}, {'total_streets': 4, 'street_names': ['bag-ejj', 'ejj-bcd', 'bcd-bce', 'bce-bcf']}, {'total_streets': 9, 'street_names': ['bhb-bhc', 'bhc-bhd', 'bhd-bhe', 'bhe-ejj', 'ejj-dbf', 'dbf-dbg', 'dbg-dbh', 'dbh-dbi', 'dbi-dbj']}, {'total_streets': 3, 'street_names': ['eda-ejj', 'ejj-bd', 'bd-be']}, {'total_streets': 10, 'street_names': ['bie-bif', 'bif-big', 'big-ejj', 'ejj-chj', 'chj-cia', 'cia-cib', 'cib-cic', 'cic-cid', 'cid-cie', 'cie-cif']}, {'total_streets': 4, 'street_names': ['dig-dih', 'dih-dii', 'dii-dij', 'dij-dja']}, {'total_streets': 8, 'street_names': ['cbc-cbd', 'cbd-cbe', 'cbe-cbf', 'cbf-cbg', 'cbg-cbh', 'cbh-cbi', 'cbi-cbj', 'cbj-cca']}, {'total_streets': 10, 'street_names': ['cdi-ejj', 'ejj-eff', 'eff-efg', 'efg-efh', 'efh-efi', 'efi-efj', 'efj-ega', 'ega-egb', 'egb-egc', 'egc-egd']}, {'total_streets': 7, 'street_names': ['dbh-dbi', 'dbi-dbj', 'dbj-dca', 'dca-dcb', 'dcb-dcc', 'dcc-dcd', 'dcd-dce']}, {'total_streets': 4, 'street_names': ['bf-bg', 'bg-bh', 'bh-bi', 'bi-bj']}, {'total_streets': 10, 'street_names': ['ji-jj', 'jj-baa', 'baa-ejj', 'ejj-dj', 'dj-ea', 'ea-eb', 'eb-ec', 'ec-ed', 'ed-ee', 'ee-ef']}, {'total_streets': 6, 'street_names': ['bdj-bea', 'bea-ejj', 'ejj-ehd', 'ehd-ehe', 'ehe-ehf', 'ehf-ehg']}, {'total_streets': 9, 'street_names': ['ejj-cj', 'cj-da', 'da-db', 'db-dc', 'dc-dd', 'dd-de', 'de-df', 'df-dg', 'dg-dh']}, {'total_streets': 3, 'street_names': ['i-ejj', 'ejj-cad', 'cad-cae']}, {'total_streets': 3, 'street_names': ['dia-ejj', 'ejj-eaj', 'eaj-eba']}, {'total_streets': 5, 'street_names': ['ejj-ehb', 'ehb-ehc', 'ehc-ehd', 'ehd-ehe', 'ehe-ehf']}, {'total_streets': 10, 'street_names': ['bbc-bbd', 'bbd-bbe', 'bbe-bbf', 'bbf-bbg', 'bbg-ejj', 'ejj-ecb', 'ecb-ecc', 'ecc-ecd', 'ecd-ece', 'ece-ecf']}, {'total_streets': 3, 'street_names': ['bie-ejj', 'ejj-bdd', 'bdd-bde']}, {'total_streets': 4, 'street_names': ['ejj-bdb', 'bdb-bdc', 'bdc-bdd', 'bdd-bde']}, {'total_streets': 4, 'street_names': ['dhe-ejj', 'ejj-ej', 'ej-fa', 'fa-fb']}, {'total_streets': 2, 'street_names': ['ejj-bgh', 'bgh-bgi']}, {'total_streets': 3, 'street_names': ['dhe-dhf', 'dhf-dhg', 'dhg-ejj']}, {'total_streets': 4, 'street_names': ['ejj-eaj', 'eaj-eba', 'eba-ebb', 'ebb-ebc']}, {'total_streets': 6, 'street_names': ['bgi-ejj', 'ejj-cbh', 'cbh-cbi', 'cbi-cbj', 'cbj-cca', 'cca-ccb']}, {'total_streets': 3, 'street_names': ['big-ejj', 'ejj-bcb', 'bcb-bcc']}, {'total_streets': 2, 'street_names': ['bhi-bhj', 'bhj-bia']}, {'total_streets': 8, 'street_names': ['egg-ejj', 'ejj-b', 'b-c', 'c-d', 'd-e', 'e-f', 'f-g', 'g-h']}, {'total_streets': 3, 'street_names': ['ebe-ebf', 'ebf-ebg', 'ebg-ejj']}, {'total_streets': 4, 'street_names': ['dhe-ejj', 'ejj-ded', 'ded-dee', 'dee-def']}, {'total_streets': 9, 'street_names': ['djj-eaa', 'eaa-eab', 'eab-eac', 'eac-ead', 'ead-eae', 'eae-eaf', 'eaf-eag', 'eag-eah', 'eah-eai']}, {'total_streets': 8, 'street_names': ['cia-cib', 'cib-cic', 'cic-ejj', 'ejj-bfd', 'bfd-bfe', 'bfe-bff', 'bff-bfg', 'bfg-bfh']}, {'total_streets': 7, 'street_names': ['ec-ed', 'ed-ee', 'ee-ejj', 'ejj-cdj', 'cdj-cea', 'cea-ceb', 'ceb-cec']}, {'total_streets': 7, 'street_names': ['ejj-dfh', 'dfh-dfi', 'dfi-dfj', 'dfj-dga', 'dga-dgb', 'dgb-dgc', 'dgc-dgd']}, {'total_streets': 6, 'street_names': ['ecg-ech', 'ech-eci', 'eci-ejj', 'ejj-did', 'did-die', 'die-dif']}, {'total_streets': 4, 'street_names': ['che-chf', 'chf-chg', 'chg-ejj', 'ejj-eaf']}, {'total_streets': 10, 'street_names': ['ejj-cfj', 'cfj-cga', 'cga-cgb', 'cgb-cgc', 'cgc-cgd', 'cgd-cge', 'cge-cgf', 'cgf-cgg', 'cgg-cgh', 'cgh-cgi']}, {'total_streets': 5, 'street_names': ['ejj-edd', 'edd-ede', 'ede-edf', 'edf-edg', 'edg-edh']}, {'total_streets': 8, 'street_names': ['ccd-cce', 'cce-ccf', 'ccf-ccg', 'ccg-cch', 'cch-cci', 'cci-ccj', 'ccj-cda', 'cda-cdb']}, {'total_streets': 3, 'street_names': ['dbj-dca', 'dca-ejj', 'ejj-bij']}, {'total_streets': 5, 'street_names': ['bg-bh', 'bh-bi', 'bi-bj', 'bj-ca', 'ca-ejj']}, {'total_streets': 6, 'street_names': ['ebg-ebh', 'ebh-ebi', 'ebi-ebj', 'ebj-eca', 'eca-ecb', 'ecb-ecc']}, {'total_streets': 9, 'street_names': ['ejj-dad', 'dad-dae', 'dae-daf', 'daf-dag', 'dag-dah', 'dah-dai', 'dai-daj', 'daj-dba', 'dba-dbb']}, {'total_streets': 8, 'street_names': ['cgg-ejj', 'ejj-bef', 'bef-beg', 'beg-beh', 'beh-bei', 'bei-bej', 'bej-bfa', 'bfa-bfb']}, {'total_streets': 8, 'street_names': ['ejj-dhh', 'dhh-dhi', 'dhi-dhj', 'dhj-dia', 'dia-dib', 'dib-dic', 'dic-did', 'did-die']}, {'total_streets': 9, 'street_names': ['bdd-bde', 'bde-bdf', 'bdf-bdg', 'bdg-bdh', 'bdh-bdi', 'bdi-bdj', 'bdj-bea', 'bea-ejj', 'ejj-ddh']}, {'total_streets': 9, 'street_names': ['dgg-dgh', 'dgh-dgi', 'dgi-dgj', 'dgj-dha', 'dha-dhb', 'dhb-dhc', 'dhc-dhd', 'dhd-dhe', 'dhe-dhf']}, {'total_streets': 10, 'street_names': ['dda-ddb', 'ddb-ddc', 'ddc-ddd', 'ddd-dde', 'dde-ejj', 'ejj-egb', 'egb-egc', 'egc-egd', 'egd-ege', 'ege-egf']}, {'total_streets': 10, 'street_names': ['ehd-ehe', 'ehe-ehf', 'ehf-ehg', 'ehg-ejj', 'ejj-dib', 'dib-dic', 'dic-did', 'did-die', 'die-dif', 'dif-dig']}, {'total_streets': 6, 'street_names': ['dhg-ejj', 'ejj-cfj', 'cfj-cga', 'cga-cgb', 'cgb-cgc', 'cgc-cgd']}, {'total_streets': 8, 'street_names': ['ejj-h', 'h-i', 'i-j', 'j-ba', 'ba-bb', 'bb-bc', 'bc-bd', 'bd-be']}, {'total_streets': 8, 'street_names': ['dii-dij', 'dij-dja', 'dja-djb', 'djb-djc', 'djc-djd', 'djd-dje', 'dje-djf', 'djf-djg']}, {'total_streets': 7, 'street_names': ['cfi-ejj', 'ejj-hb', 'hb-hc', 'hc-hd', 'hd-he', 'he-hf', 'hf-hg']}, {'total_streets': 5, 'street_names': ['cjg-ejj', 'ejj-bej', 'bej-bfa', 'bfa-bfb', 'bfb-bfc']}, {'total_streets': 2, 'street_names': ['dha-ejj', 'ejj-ej']}, {'total_streets': 9, 'street_names': ['ebj-eca', 'eca-ejj', 'ejj-bdh', 'bdh-bdi', 'bdi-bdj', 'bdj-bea', 'bea-beb', 'beb-bec', 'bec-bed']}, {'total_streets': 6, 'street_names': ['ecd-ece', 'ece-ejj', 'ejj-cef', 'cef-ceg', 'ceg-ceh', 'ceh-cei']}, {'total_streets': 4, 'street_names': ['eci-ecj', 'ecj-eda', 'eda-edb', 'edb-edc']}, {'total_streets': 10, 'street_names': ['ba-ejj', 'ejj-edb', 'edb-edc', 'edc-edd', 'edd-ede', 'ede-edf', 'edf-edg', 'edg-edh', 'edh-edi', 'edi-edj']}, {'total_streets': 3, 'street_names': ['ejj-fj', 'fj-ga', 'ga-gb']}, {'total_streets': 9, 'street_names': ['dhb-dhc', 'dhc-ejj', 'ejj-bed', 'bed-bee', 'bee-bef', 'bef-beg', 'beg-beh', 'beh-bei', 'bei-bej']}, {'total_streets': 8, 'street_names': ['ejj-bfb', 'bfb-bfc', 'bfc-bfd', 'bfd-bfe', 'bfe-bff', 'bff-bfg', 'bfg-bfh', 'bfh-bfi']}, {'total_streets': 4, 'street_names': ['bhj-bia', 'bia-ejj', 'ejj-cjj', 'cjj-daa']}, {'total_streets': 7, 'street_names': ['cci-ccj', 'ccj-cda', 'cda-cdb', 'cdb-cdc', 'cdc-cdd', 'cdd-cde', 'cde-cdf']}, {'total_streets': 3, 'street_names': ['efg-efh', 'efh-efi', 'efi-ejj']}, {'total_streets': 6, 'street_names': ['ejj-cef', 'cef-ceg', 'ceg-ceh', 'ceh-cei', 'cei-cej', 'cej-cfa']}, {'total_streets': 9, 'street_names': ['dje-djf', 'djf-djg', 'djg-ejj', 'ejj-hf', 'hf-hg', 'hg-hh', 'hh-hi', 'hi-hj', 'hj-ia']}, {'total_streets': 3, 'street_names': ['gi-gj', 'gj-ha', 'ha-ejj']}, {'total_streets': 3, 'street_names': ['ejj-dcf', 'dcf-dcg', 'dcg-dch']}, {'total_streets': 6, 'street_names': ['ebf-ebg', 'ebg-ejj', 'ejj-dad', 'dad-dae', 'dae-daf', 'daf-dag']}, {'total_streets': 8, 'street_names': ['bdc-ejj', 'ejj-bdf', 'bdf-bdg', 'bdg-bdh', 'bdh-bdi', 'bdi-bdj', 'bdj-bea', 'bea-beb']}, {'total_streets': 10, 'street_names': ['cee-ejj', 'ejj-cf', 'cf-cg', 'cg-ch', 'ch-ci', 'ci-cj', 'cj-da', 'da-db', 'db-dc', 'dc-dd']}, {'total_streets': 6, 'street_names': ['ic-id', 'id-ie', 'ie-ejj', 'ejj-ccj', 'ccj-cda', 'cda-cdb']}, {'total_streets': 6, 'street_names': ['eeg-ejj', 'ejj-bad', 'bad-bae', 'bae-baf', 'baf-bag', 'bag-bah']}, {'total_streets': 2, 'street_names': ['he-ejj', 'ejj-efd']}, {'total_streets': 4, 'street_names': ['cbi-cbj', 'cbj-cca', 'cca-ejj', 'ejj-egj']}, {'total_streets': 9, 'street_names': ['ejh-eji', 'eji-ejj', 'ejj-dgh', 'dgh-dgi', 'dgi-dgj', 'dgj-dha', 'dha-dhb', 'dhb-dhc', 'dhc-dhd']}, {'total_streets': 5, 'street_names': ['ejj-bh', 'bh-bi', 'bi-bj', 'bj-ca', 'ca-cb']}, {'total_streets': 4, 'street_names': ['efa-ejj', 'ejj-dah', 'dah-dai', 'dai-daj']}, {'total_streets': 3, 'street_names': ['ejj-cib', 'cib-cic', 'cic-cid']}, {'total_streets': 8, 'street_names': ['ejj-bhh', 'bhh-bhi', 'bhi-bhj', 'bhj-bia', 'bia-bib', 'bib-bic', 'bic-bid', 'bid-bie']}, {'total_streets': 10, 'street_names': ['cia-cib', 'cib-cic', 'cic-cid', 'cid-cie', 'cie-ejj', 'ejj-bab', 'bab-bac', 'bac-bad', 'bad-bae', 'bae-baf']}, {'total_streets': 7, 'street_names': ['eia-eib', 'eib-eic', 'eic-eid', 'eid-eie', 'eie-ejj', 'ejj-bcd', 'bcd-bce']}, {'total_streets': 2, 'street_names': ['bi-bj', 'bj-ca']}, {'total_streets': 7, 'street_names': ['cia-ejj', 'ejj-ceb', 'ceb-cec', 'cec-ced', 'ced-cee', 'cee-cef', 'cef-ceg']}, {'total_streets': 2, 'street_names': ['baf-bag', 'bag-ejj']}, {'total_streets': 3, 'street_names': ['hg-hh', 'hh-hi', 'hi-hj']}, {'total_streets': 7, 'street_names': ['ejj-did', 'did-die', 'die-dif', 'dif-dig', 'dig-dih', 'dih-dii', 'dii-dij']}, {'total_streets': 7, 'street_names': ['cgj-cha', 'cha-ejj', 'ejj-dfj', 'dfj-dga', 'dga-dgb', 'dgb-dgc', 'dgc-dgd']}, {'total_streets': 4, 'street_names': ['dgc-dgd', 'dgd-dge', 'dge-dgf', 'dgf-dgg']}, {'total_streets': 6, 'street_names': ['cdi-ejj', 'ejj-eah', 'eah-eai', 'eai-eaj', 'eaj-eba', 'eba-ebb']}, {'total_streets': 10, 'street_names': ['ebf-ebg', 'ebg-ejj', 'ejj-beh', 'beh-bei', 'bei-bej', 'bej-bfa', 'bfa-bfb', 'bfb-bfc', 'bfc-bfd', 'bfd-bfe']}, {'total_streets': 4, 'street_names': ['dde-ejj', 'ejj-ced', 'ced-cee', 'cee-cef']}, {'total_streets': 6, 'street_names': ['cgi-cgj', 'cgj-cha', 'cha-chb', 'chb-chc', 'chc-ejj', 'ejj-ebb']}, {'total_streets': 10, 'street_names': ['bde-ejj', 'ejj-dhf', 'dhf-dhg', 'dhg-dhh', 'dhh-dhi', 'dhi-dhj', 'dhj-dia', 'dia-dib', 'dib-dic', 'dic-did']}, {'total_streets': 7, 'street_names': ['dja-ejj', 'ejj-ccf', 'ccf-ccg', 'ccg-cch', 'cch-cci', 'cci-ccj', 'ccj-cda']}, {'total_streets': 3, 'street_names': ['jh-ji', 'ji-ejj', 'ejj-fh']}, {'total_streets': 10, 'street_names': ['ge-gf', 'gf-gg', 'gg-gh', 'gh-gi', 'gi-ejj', 'ejj-db', 'db-dc', 'dc-dd', 'dd-de', 'de-df']}, {'total_streets': 8, 'street_names': ['cfa-ejj', 'ejj-ff', 'ff-fg', 'fg-fh', 'fh-fi', 'fi-fj', 'fj-ga', 'ga-gb']}, {'total_streets': 7, 'street_names': ['ejj-dgd', 'dgd-dge', 'dge-dgf', 'dgf-dgg', 'dgg-dgh', 'dgh-dgi', 'dgi-dgj']}, {'total_streets': 9, 'street_names': ['chb-chc', 'chc-chd', 'chd-che', 'che-ejj', 'ejj-ddf', 'ddf-ddg', 'ddg-ddh', 'ddh-ddi', 'ddi-ddj']}, {'total_streets': 5, 'street_names': ['bec-ejj', 'ejj-if', 'if-ig', 'ig-ih', 'ih-ii']}, {'total_streets': 5, 'street_names': ['ee-ejj', 'ejj-djd', 'djd-dje', 'dje-djf', 'djf-djg']}, {'total_streets': 6, 'street_names': ['che-chf', 'chf-chg', 'chg-ejj', 'ejj-ccj', 'ccj-cda', 'cda-cdb']}, {'total_streets': 8, 'street_names': ['ccg-ejj', 'ejj-cef', 'cef-ceg', 'ceg-ceh', 'ceh-cei', 'cei-cej', 'cej-cfa', 'cfa-cfb']}, {'total_streets': 6, 'street_names': ['hb-hc', 'hc-hd', 'hd-he', 'he-ejj', 'ejj-dj', 'dj-ea']}, {'total_streets': 6, 'street_names': ['fa-fb', 'fb-fc', 'fc-ejj', 'ejj-jh', 'jh-ji', 'ji-jj']}, {'total_streets': 10, 'street_names': ['ejj-dfh', 'dfh-dfi', 'dfi-dfj', 'dfj-dga', 'dga-dgb', 'dgb-dgc', 'dgc-dgd', 'dgd-dge', 'dge-dgf', 'dgf-dgg']}, {'total_streets': 2, 'street_names': ['cbc-cbd', 'cbd-cbe']}, {'total_streets': 7, 'street_names': ['ha-hb', 'hb-hc', 'hc-hd', 'hd-he', 'he-ejj', 'ejj-bib', 'bib-bic']}, {'total_streets': 5, 'street_names': ['eac-ejj', 'ejj-jd', 'jd-je', 'je-jf', 'jf-jg']}, {'total_streets': 4, 'street_names': ['ejj-bif', 'bif-big', 'big-bih', 'bih-bii']}, {'total_streets': 6, 'street_names': ['ic-id', 'id-ie', 'ie-if', 'if-ig', 'ig-ih', 'ih-ii']}, {'total_streets': 8, 'street_names': ['dic-did', 'did-die', 'die-ejj', 'ejj-ej', 'ej-fa', 'fa-fb', 'fb-fc', 'fc-fd']}, {'total_streets': 7, 'street_names': ['ejj-dcd', 'dcd-dce', 'dce-dcf', 'dcf-dcg', 'dcg-dch', 'dch-dci', 'dci-dcj']}, {'total_streets': 7, 'street_names': ['cje-ejj', 'ejj-ehh', 'ehh-ehi', 'ehi-ehj', 'ehj-eia', 'eia-eib', 'eib-eic']}, {'total_streets': 4, 'street_names': ['efe-ejj', 'ejj-cib', 'cib-cic', 'cic-cid']}, {'total_streets': 8, 'street_names': ['fi-ejj', 'ejj-bjb', 'bjb-bjc', 'bjc-bjd', 'bjd-bje', 'bje-bjf', 'bjf-bjg', 'bjg-bjh']}, {'total_streets': 5, 'street_names': ['eag-ejj', 'ejj-edj', 'edj-eea', 'eea-eeb', 'eeb-eec']}, {'total_streets': 4, 'street_names': ['ejj-edb', 'edb-edc', 'edc-edd', 'edd-ede']}, {'total_streets': 6, 'street_names': ['bbg-ejj', 'ejj-cfh', 'cfh-cfi', 'cfi-cfj', 'cfj-cga', 'cga-cgb']}, {'total_streets': 5, 'street_names': ['cdi-ejj', 'ejj-efd', 'efd-efe', 'efe-eff', 'eff-efg']}, {'total_streets': 9, 'street_names': ['fi-fj', 'fj-ga', 'ga-ejj', 'ejj-chb', 'chb-chc', 'chc-chd', 'chd-che', 'che-chf', 'chf-chg']}, {'total_streets': 5, 'street_names': ['ebc-ebd', 'ebd-ebe', 'ebe-ejj', 'ejj-hh', 'hh-hi']}, {'total_streets': 2, 'street_names': ['dji-ejj', 'ejj-bfb']}, {'total_streets': 4, 'street_names': ['cc-ejj', 'ejj-bdf', 'bdf-bdg', 'bdg-bdh']}, {'total_streets': 3, 'street_names': ['gc-gd', 'gd-ge', 'ge-ejj']}, {'total_streets': 4, 'street_names': ['ehh-ehi', 'ehi-ehj', 'ehj-eia', 'eia-eib']}, {'total_streets': 4, 'street_names': ['dde-ejj', 'ejj-jh', 'jh-ji', 'ji-jj']}, {'total_streets': 8, 'street_names': ['bbc-bbd', 'bbd-bbe', 'bbe-ejj', 'ejj-dbh', 'dbh-dbi', 'dbi-dbj', 'dbj-dca', 'dca-dcb']}, {'total_streets': 2, 'street_names': ['dgi-dgj', 'dgj-dha']}, {'total_streets': 10, 'street_names': ['eba-ebb', 'ebb-ebc', 'ebc-ebd', 'ebd-ebe', 'ebe-ebf', 'ebf-ebg', 'ebg-ejj', 'ejj-eeb', 'eeb-eec', 'eec-eed']}, {'total_streets': 3, 'street_names': ['dbg-ejj', 'ejj-bfh', 'bfh-bfi']}, {'total_streets': 3, 'street_names': ['bae-ejj', 'ejj-dah', 'dah-dai']}, {'total_streets': 5, 'street_names': ['ejj-edj', 'edj-eea', 'eea-eeb', 'eeb-eec', 'eec-eed']}, {'total_streets': 8, 'street_names': ['ege-ejj', 'ejj-jb', 'jb-jc', 'jc-jd', 'jd-je', 'je-jf', 'jf-jg', 'jg-jh']}, {'total_streets': 6, 'street_names': ['ejj-ddd', 'ddd-dde', 'dde-ddf', 'ddf-ddg', 'ddg-ddh', 'ddh-ddi']}, {'total_streets': 5, 'street_names': ['ejj-bf', 'bf-bg', 'bg-bh', 'bh-bi', 'bi-bj']}, {'total_streets': 8, 'street_names': ['he-ejj', 'ejj-efd', 'efd-efe', 'efe-eff', 'eff-efg', 'efg-efh', 'efh-efi', 'efi-efj']}, {'total_streets': 6, 'street_names': ['ejj-bhh', 'bhh-bhi', 'bhi-bhj', 'bhj-bia', 'bia-bib', 'bib-bic']}, {'total_streets': 5, 'street_names': ['jc-jd', 'jd-je', 'je-ejj', 'ejj-chf', 'chf-chg']}, {'total_streets': 2, 'street_names': ['cch-cci', 'cci-ejj']}, {'total_streets': 2, 'street_names': ['dje-djf', 'djf-djg']}, {'total_streets': 3, 'street_names': ['ejj-df', 'df-dg', 'dg-dh']}, {'total_streets': 9, 'street_names': ['dj-ea', 'ea-eb', 'eb-ec', 'ec-ejj', 'ejj-bah', 'bah-bai', 'bai-baj', 'baj-bba', 'bba-bbb']}, {'total_streets': 4, 'street_names': ['gi-ejj', 'ejj-beb', 'beb-bec', 'bec-bed']}, {'total_streets': 5, 'street_names': ['efc-ejj', 'ejj-dfh', 'dfh-dfi', 'dfi-dfj', 'dfj-dga']}, {'total_streets': 6, 'street_names': ['ba-ejj', 'ejj-cdd', 'cdd-cde', 'cde-cdf', 'cdf-cdg', 'cdg-cdh']}, {'total_streets': 4, 'street_names': ['ejj-cch', 'cch-cci', 'cci-ccj', 'ccj-cda']}, {'total_streets': 9, 'street_names': ['bei-ejj', 'ejj-chd', 'chd-che', 'che-chf', 'chf-chg', 'chg-chh', 'chh-chi', 'chi-chj', 'chj-cia']}, {'total_streets': 4, 'street_names': ['bgc-ejj', 'ejj-daf', 'daf-dag', 'dag-dah']}, {'total_streets': 6, 'street_names': ['deh-dei', 'dei-ejj', 'ejj-bhd', 'bhd-bhe', 'bhe-bhf', 'bhf-bhg']}, {'total_streets': 7, 'street_names': ['i-j', 'j-ba', 'ba-bb', 'bb-bc', 'bc-ejj', 'ejj-eeh', 'eeh-eei']}, {'total_streets': 8, 'street_names': ['ejj-ced', 'ced-cee', 'cee-cef', 'cef-ceg', 'ceg-ceh', 'ceh-cei', 'cei-cej', 'cej-cfa']}, {'total_streets': 7, 'street_names': ['ejj-cgb', 'cgb-cgc', 'cgc-cgd', 'cgd-cge', 'cge-cgf', 'cgf-cgg', 'cgg-cgh']}, {'total_streets': 9, 'street_names': ['eie-ejj', 'ejj-gf', 'gf-gg', 'gg-gh', 'gh-gi', 'gi-gj', 'gj-ha', 'ha-hb', 'hb-hc']}, {'total_streets': 10, 'street_names': ['dae-daf', 'daf-dag', 'dag-ejj', 'ejj-cfd', 'cfd-cfe', 'cfe-cff', 'cff-cfg', 'cfg-cfh', 'cfh-cfi', 'cfi-cfj']}, {'total_streets': 4, 'street_names': ['bje-bjf', 'bjf-bjg', 'bjg-ejj', 'ejj-ebd']}, {'total_streets': 4, 'street_names': ['ebf-ebg', 'ebg-ebh', 'ebh-ebi', 'ebi-ebj']}, {'total_streets': 9, 'street_names': ['ejj-ij', 'ij-ja', 'ja-jb', 'jb-jc', 'jc-jd', 'jd-je', 'je-jf', 'jf-jg', 'jg-jh']}, {'total_streets': 6, 'street_names': ['hf-hg', 'hg-ejj', 'ejj-efj', 'efj-ega', 'ega-egb', 'egb-egc']}, {'total_streets': 6, 'street_names': ['ejj-eeb', 'eeb-eec', 'eec-eed', 'eed-eee', 'eee-eef', 'eef-eeg']}, {'total_streets': 6, 'street_names': ['ig-ejj', 'ejj-ddj', 'ddj-dea', 'dea-deb', 'deb-dec', 'dec-ded']}, {'total_streets': 2, 'street_names': ['cad-cae', 'cae-ejj']}, {'total_streets': 8, 'street_names': ['bii-bij', 'bij-bja', 'bja-bjb', 'bjb-bjc', 'bjc-bjd', 'bjd-bje', 'bje-bjf', 'bjf-bjg']}, {'total_streets': 9, 'street_names': ['ejj-gb', 'gb-gc', 'gc-gd', 'gd-ge', 'ge-gf', 'gf-gg', 'gg-gh', 'gh-gi', 'gi-gj']}, {'total_streets': 6, 'street_names': ['ejj-jb', 'jb-jc', 'jc-jd', 'jd-je', 'je-jf', 'jf-jg']}, {'total_streets': 5, 'street_names': ['ejj-eed', 'eed-eee', 'eee-eef', 'eef-eeg', 'eeg-eeh']}, {'total_streets': 5, 'street_names': ['cif-cig', 'cig-cih', 'cih-cii', 'cii-cij', 'cij-cja']}, {'total_streets': 2, 'street_names': ['ejj-bij', 'bij-bja']}, {'total_streets': 6, 'street_names': ['ca-cb', 'cb-cc', 'cc-ejj', 'ejj-bjj', 'bjj-caa', 'caa-cab']}, {'total_streets': 6, 'street_names': ['djc-djd', 'djd-dje', 'dje-djf', 'djf-djg', 'djg-djh', 'djh-dji']}, {'total_streets': 10, 'street_names': ['bee-ejj', 'ejj-bdb', 'bdb-bdc', 'bdc-bdd', 'bdd-bde', 'bde-bdf', 'bdf-bdg', 'bdg-bdh', 'bdh-bdi', 'bdi-bdj']}, {'total_streets': 4, 'street_names': ['bei-bej', 'bej-bfa', 'bfa-bfb', 'bfb-bfc']}, {'total_streets': 3, 'street_names': ['ccc-ccd', 'ccd-cce', 'cce-ejj']}, {'total_streets': 5, 'street_names': ['he-ejj', 'ejj-dbb', 'dbb-dbc', 'dbc-dbd', 'dbd-dbe']}, {'total_streets': 6, 'street_names': ['bgc-bgd', 'bgd-bge', 'bge-ejj', 'ejj-cjd', 'cjd-cje', 'cje-cjf']}, {'total_streets': 2, 'street_names': ['cbi-cbj', 'cbj-cca']}, {'total_streets': 10, 'street_names': ['cfg-cfh', 'cfh-cfi', 'cfi-cfj', 'cfj-cga', 'cga-cgb', 'cgb-cgc', 'cgc-cgd', 'cgd-cge', 'cge-ejj', 'ejj-eed']}, {'total_streets': 2, 'street_names': ['ejj-dbf', 'dbf-dbg']}, {'total_streets': 5, 'street_names': ['ejj-dch', 'dch-dci', 'dci-dcj', 'dcj-dda', 'dda-ddb']}, {'total_streets': 9, 'street_names': ['eii-ejj', 'ejj-ch', 'ch-ci', 'ci-cj', 'cj-da', 'da-db', 'db-dc', 'dc-dd', 'dd-de']}, {'total_streets': 9, 'street_names': ['ejj-bjb', 'bjb-bjc', 'bjc-bjd', 'bjd-bje', 'bje-bjf', 'bjf-bjg', 'bjg-bjh', 'bjh-bji', 'bji-bjj']}, {'total_streets': 4, 'street_names': ['cdg-ejj', 'ejj-bhf', 'bhf-bhg', 'bhg-bhh']}, {'total_streets': 10, 'street_names': ['ccg-cch', 'cch-cci', 'cci-ccj', 'ccj-cda', 'cda-ejj', 'ejj-edd', 'edd-ede', 'ede-edf', 'edf-edg', 'edg-edh']}, {'total_streets': 6, 'street_names': ['cie-cif', 'cif-cig', 'cig-cih', 'cih-cii', 'cii-ejj', 'ejj-ehd']}, {'total_streets': 4, 'street_names': ['dbj-dca', 'dca-ejj', 'ejj-eeh', 'eeh-eei']}, {'total_streets': 7, 'street_names': ['cdd-cde', 'cde-cdf', 'cdf-cdg', 'cdg-cdh', 'cdh-cdi', 'cdi-cdj', 'cdj-cea']}, {'total_streets': 8, 'street_names': ['cbc-cbd', 'cbd-cbe', 'cbe-ejj', 'ejj-cad', 'cad-cae', 'cae-caf', 'caf-cag', 'cag-cah']}, {'total_streets': 6, 'street_names': ['ebb-ebc', 'ebc-ebd', 'ebd-ebe', 'ebe-ejj', 'ejj-eff', 'eff-efg']}, {'total_streets': 7, 'street_names': ['daj-dba', 'dba-ejj', 'ejj-d', 'd-e', 'e-f', 'f-g', 'g-h']}, {'total_streets': 9, 'street_names': ['did-die', 'die-dif', 'dif-dig', 'dig-dih', 'dih-dii', 'dii-ejj', 'ejj-cih', 'cih-cii', 'cii-cij']}, {'total_streets': 8, 'street_names': ['ede-ejj', 'ejj-bih', 'bih-bii', 'bii-bij', 'bij-bja', 'bja-bjb', 'bjb-bjc', 'bjc-bjd']}, {'total_streets': 4, 'street_names': ['cde-cdf', 'cdf-cdg', 'cdg-cdh', 'cdh-cdi']}, {'total_streets': 2, 'street_names': ['did-die', 'die-dif']}, {'total_streets': 2, 'street_names': ['bhg-bhh', 'bhh-bhi']}, {'total_streets': 8, 'street_names': ['ehg-ehh', 'ehh-ehi', 'ehi-ehj', 'ehj-eia', 'eia-eib', 'eib-eic', 'eic-eid', 'eid-eie']}, {'total_streets': 5, 'street_names': ['ejj-bjh', 'bjh-bji', 'bji-bjj', 'bjj-caa', 'caa-cab']}, {'total_streets': 6, 'street_names': ['ejj-djb', 'djb-djc', 'djc-djd', 'djd-dje', 'dje-djf', 'djf-djg']}, {'total_streets': 3, 'street_names': ['ddf-ddg', 'ddg-ddh', 'ddh-ddi']}, {'total_streets': 9, 'street_names': ['ejj-chj', 'chj-cia', 'cia-cib', 'cib-cic', 'cic-cid', 'cid-cie', 'cie-cif', 'cif-cig', 'cig-cih']}, {'total_streets': 10, 'street_names': ['efb-efc', 'efc-efd', 'efd-efe', 'efe-eff', 'eff-efg', 'efg-efh', 'efh-efi', 'efi-efj', 'efj-ega', 'ega-egb']}, {'total_streets': 8, 'street_names': ['dgg-dgh', 'dgh-dgi', 'dgi-dgj', 'dgj-dha', 'dha-dhb', 'dhb-dhc', 'dhc-ejj', 'ejj-dh']}, {'total_streets': 9, 'street_names': ['di-dj', 'dj-ea', 'ea-eb', 'eb-ec', 'ec-ejj', 'ejj-edh', 'edh-edi', 'edi-edj', 'edj-eea']}, {'total_streets': 3, 'street_names': ['dbf-dbg', 'dbg-ejj', 'ejj-bdh']}, {'total_streets': 5, 'street_names': ['dec-ded', 'ded-dee', 'dee-def', 'def-deg', 'deg-ejj']}, {'total_streets': 7, 'street_names': ['eei-ejj', 'ejj-efh', 'efh-efi', 'efi-efj', 'efj-ega', 'ega-egb', 'egb-egc']}, {'total_streets': 2, 'street_names': ['ejj-bfj', 'bfj-bga']}, {'total_streets': 8, 'street_names': ['ejj-dbb', 'dbb-dbc', 'dbc-dbd', 'dbd-dbe', 'dbe-dbf', 'dbf-dbg', 'dbg-dbh', 'dbh-dbi']}, {'total_streets': 9, 'street_names': ['ejj-ecd', 'ecd-ece', 'ece-ecf', 'ecf-ecg', 'ecg-ech', 'ech-eci', 'eci-ecj', 'ecj-eda', 'eda-edb']}, {'total_streets': 4, 'street_names': ['dhc-ejj', 'ejj-ddb', 'ddb-ddc', 'ddc-ddd']}, {'total_streets': 3, 'street_names': ['ejj-ead', 'ead-eae', 'eae-eaf']}, {'total_streets': 7, 'street_names': ['ehj-eia', 'eia-ejj', 'ejj-cdb', 'cdb-cdc', 'cdc-cdd', 'cdd-cde', 'cde-cdf']}, {'total_streets': 2, 'street_names': ['bbg-ejj', 'ejj-bij']}, {'total_streets': 10, 'street_names': ['daa-ejj', 'ejj-dgd', 'dgd-dge', 'dge-dgf', 'dgf-dgg', 'dgg-dgh', 'dgh-dgi', 'dgi-dgj', 'dgj-dha', 'dha-dhb']}, {'total_streets': 8, 'street_names': ['dfg-ejj', 'ejj-hd', 'hd-he', 'he-hf', 'hf-hg', 'hg-hh', 'hh-hi', 'hi-hj']}, {'total_streets': 4, 'street_names': ['chf-chg', 'chg-chh', 'chh-chi', 'chi-ejj']}, {'total_streets': 4, 'street_names': ['a-b', 'b-c', 'c-d', 'd-e']}, {'total_streets': 4, 'street_names': ['ji-ejj', 'ejj-ebh', 'ebh-ebi', 'ebi-ebj']}, {'total_streets': 10, 'street_names': ['ejj-djj', 'djj-eaa', 'eaa-eab', 'eab-eac', 'eac-ead', 'ead-eae', 'eae-eaf', 'eaf-eag', 'eag-eah', 'eah-eai']}, {'total_streets': 7, 'street_names': ['dfg-dfh', 'dfh-dfi', 'dfi-dfj', 'dfj-dga', 'dga-ejj', 'ejj-bcj', 'bcj-bda']}, {'total_streets': 9, 'street_names': ['je-ejj', 'ejj-ebh', 'ebh-ebi', 'ebi-ebj', 'ebj-eca', 'eca-ecb', 'ecb-ecc', 'ecc-ecd', 'ecd-ece']}, {'total_streets': 4, 'street_names': ['eih-eii', 'eii-ejj', 'ejj-bdd', 'bdd-bde']}, {'total_streets': 6, 'street_names': ['jh-ji', 'ji-jj', 'jj-baa', 'baa-bab', 'bab-bac', 'bac-ejj']}, {'total_streets': 3, 'street_names': ['dih-dii', 'dii-dij', 'dij-dja']}, {'total_streets': 7, 'street_names': ['ejj-did', 'did-die', 'die-dif', 'dif-dig', 'dig-dih', 'dih-dii', 'dii-dij']}, {'total_streets': 8, 'street_names': ['bga-ejj', 'ejj-gh', 'gh-gi', 'gi-gj', 'gj-ha', 'ha-hb', 'hb-hc', 'hc-hd']}, {'total_streets': 3, 'street_names': ['ca-ejj', 'ejj-bed', 'bed-bee']}, {'total_streets': 4, 'street_names': ['bec-ejj', 'ejj-def', 'def-deg', 'deg-deh']}, {'total_streets': 8, 'street_names': ['hi-ejj', 'ejj-ejd', 'ejd-eje', 'eje-ejf', 'ejf-ejg', 'ejg-ejh', 'ejh-eji', 'eji-a']}, {'total_streets': 10, 'street_names': ['dfe-dff', 'dff-dfg', 'dfg-dfh', 'dfh-dfi', 'dfi-ejj', 'ejj-baf', 'baf-bag', 'bag-bah', 'bah-bai', 'bai-baj']}, {'total_streets': 4, 'street_names': ['ejj-cjj', 'cjj-daa', 'daa-dab', 'dab-dac']}, {'total_streets': 8, 'street_names': ['bgi-bgj', 'bgj-bha', 'bha-ejj', 'ejj-bid', 'bid-bie', 'bie-bif', 'bif-big', 'big-bih']}, {'total_streets': 10, 'street_names': ['eig-ejj', 'ejj-cdj', 'cdj-cea', 'cea-ceb', 'ceb-cec', 'cec-ced', 'ced-cee', 'cee-cef', 'cef-ceg', 'ceg-ceh']}, {'total_streets': 7, 'street_names': ['bdd-bde', 'bde-ejj', 'ejj-daj', 'daj-dba', 'dba-dbb', 'dbb-dbc', 'dbc-dbd']}, {'total_streets': 10, 'street_names': ['edj-eea', 'eea-eeb', 'eeb-eec', 'eec-eed', 'eed-eee', 'eee-eef', 'eef-eeg', 'eeg-eeh', 'eeh-eei', 'eei-ejj']}, {'total_streets': 8, 'street_names': ['eaa-eab', 'eab-eac', 'eac-ead', 'ead-eae', 'eae-ejj', 'ejj-bhh', 'bhh-bhi', 'bhi-bhj']}, {'total_streets': 4, 'street_names': ['ejj-bbh', 'bbh-bbi', 'bbi-bbj', 'bbj-bca']}, {'total_streets': 3, 'street_names': ['cbi-cbj', 'cbj-cca', 'cca-ccb']}, {'total_streets': 7, 'street_names': ['ejj-dhd', 'dhd-dhe', 'dhe-dhf', 'dhf-dhg', 'dhg-dhh', 'dhh-dhi', 'dhi-dhj']}, {'total_streets': 7, 'street_names': ['cje-cjf', 'cjf-cjg', 'cjg-cjh', 'cjh-cji', 'cji-ejj', 'ejj-ech', 'ech-eci']}, {'total_streets': 4, 'street_names': ['ejj-bch', 'bch-bci', 'bci-bcj', 'bcj-bda']}, {'total_streets': 8, 'street_names': ['ej-fa', 'fa-fb', 'fb-fc', 'fc-ejj', 'ejj-eeb', 'eeb-eec', 'eec-eed', 'eed-eee']}, {'total_streets': 9, 'street_names': ['ejj-dfj', 'dfj-dga', 'dga-dgb', 'dgb-dgc', 'dgc-dgd', 'dgd-dge', 'dge-dgf', 'dgf-dgg', 'dgg-dgh']}, {'total_streets': 10, 'street_names': ['ia-ib', 'ib-ic', 'ic-ejj', 'ejj-dj', 'dj-ea', 'ea-eb', 'eb-ec', 'ec-ed', 'ed-ee', 'ee-ef']}, {'total_streets': 5, 'street_names': ['ejj-djd', 'djd-dje', 'dje-djf', 'djf-djg', 'djg-djh']}, {'total_streets': 6, 'street_names': ['ecf-ecg', 'ecg-ech', 'ech-eci', 'eci-ecj', 'ecj-eda', 'eda-edb']}, {'total_streets': 9, 'street_names': ['eeg-ejj', 'ejj-bdd', 'bdd-bde', 'bde-bdf', 'bdf-bdg', 'bdg-bdh', 'bdh-bdi', 'bdi-bdj', 'bdj-bea']}, {'total_streets': 5, 'street_names': ['dij-dja', 'dja-ejj', 'ejj-cb', 'cb-cc', 'cc-cd']}, {'total_streets': 6, 'street_names': ['eei-eej', 'eej-efa', 'efa-efb', 'efb-efc', 'efc-efd', 'efd-efe']}, {'total_streets': 3, 'street_names': ['ejj-eib', 'eib-eic', 'eic-eid']}, {'total_streets': 4, 'street_names': ['ejj-egb', 'egb-egc', 'egc-egd', 'egd-ege']}, {'total_streets': 2, 'street_names': ['ebg-ejj', 'ejj-bdh']}, {'total_streets': 7, 'street_names': ['ejj-cdd', 'cdd-cde', 'cde-cdf', 'cdf-cdg', 'cdg-cdh', 'cdh-cdi', 'cdi-cdj']}, {'total_streets': 6, 'street_names': ['dab-dac', 'dac-ejj', 'ejj-cdf', 'cdf-cdg', 'cdg-cdh', 'cdh-cdi']}, {'total_streets': 2, 'street_names': ['fe-ejj', 'ejj-eij']}, {'total_streets': 4, 'street_names': ['bdj-bea', 'bea-ejj', 'ejj-bij', 'bij-bja']}, {'total_streets': 5, 'street_names': ['cha-chb', 'chb-chc', 'chc-ejj', 'ejj-hd', 'hd-he']}, {'total_streets': 4, 'street_names': ['ee-ejj', 'ejj-eaf', 'eaf-eag', 'eag-eah']}, {'total_streets': 2, 'street_names': ['ced-cee', 'cee-cef']}, {'total_streets': 6, 'street_names': ['dce-ejj', 'ejj-jh', 'jh-ji', 'ji-jj', 'jj-baa', 'baa-bab']}, {'total_streets': 10, 'street_names': ['bjj-caa', 'caa-cab', 'cab-cac', 'cac-ejj', 'ejj-bf', 'bf-bg', 'bg-bh', 'bh-bi', 'bi-bj', 'bj-ca']}, {'total_streets': 3, 'street_names': ['ei-ej', 'ej-fa', 'fa-fb']}, {'total_streets': 10, 'street_names': ['cgd-cge', 'cge-ejj', 'ejj-ebd', 'ebd-ebe', 'ebe-ebf', 'ebf-ebg', 'ebg-ebh', 'ebh-ebi', 'ebi-ebj', 'ebj-eca']}, {'total_streets': 9, 'street_names': ['ejj-bjd', 'bjd-bje', 'bje-bjf', 'bjf-bjg', 'bjg-bjh', 'bjh-bji', 'bji-bjj', 'bjj-caa', 'caa-cab']}, {'total_streets': 10, 'street_names': ['cdg-ejj', 'ejj-edd', 'edd-ede', 'ede-edf', 'edf-edg', 'edg-edh', 'edh-edi', 'edi-edj', 'edj-eea', 'eea-eeb']}, {'total_streets': 5, 'street_names': ['ddi-ddj', 'ddj-dea', 'dea-ejj', 'ejj-ccf', 'ccf-ccg']}, {'total_streets': 8, 'street_names': ['cfg-ejj', 'ejj-dfj', 'dfj-dga', 'dga-dgb', 'dgb-dgc', 'dgc-dgd', 'dgd-dge', 'dge-dgf']}, {'total_streets': 9, 'street_names': ['daj-dba', 'dba-ejj', 'ejj-ehj', 'ehj-eia', 'eia-eib', 'eib-eic', 'eic-eid', 'eid-eie', 'eie-eif']}, {'total_streets': 6, 'street_names': ['ejj-f', 'f-g', 'g-h', 'h-i', 'i-j', 'j-ba']}, {'total_streets': 3, 'street_names': ['djj-eaa', 'eaa-eab', 'eab-eac']}, {'total_streets': 7, 'street_names': ['cca-ccb', 'ccb-ccc', 'ccc-ejj', 'ejj-ebb', 'ebb-ebc', 'ebc-ebd', 'ebd-ebe']}, {'total_streets': 3, 'street_names': ['ebg-ebh', 'ebh-ebi', 'ebi-ebj']}, {'total_streets': 3, 'street_names': ['ejj-deb', 'deb-dec', 'dec-ded']}, {'total_streets': 5, 'street_names': ['ejj-cj', 'cj-da', 'da-db', 'db-dc', 'dc-dd']}, {'total_streets': 4, 'street_names': ['bci-bcj', 'bcj-bda', 'bda-bdb', 'bdb-bdc']}, {'total_streets': 4, 'street_names': ['ehe-ejj', 'ejj-ceb', 'ceb-cec', 'cec-ced']}, {'total_streets': 8, 'street_names': ['ejj-bih', 'bih-bii', 'bii-bij', 'bij-bja', 'bja-bjb', 'bjb-bjc', 'bjc-bjd', 'bjd-bje']}, {'total_streets': 6, 'street_names': ['eba-ebb', 'ebb-ebc', 'ebc-ebd', 'ebd-ebe', 'ebe-ejj', 'ejj-cdb']}, {'total_streets': 6, 'street_names': ['cf-cg', 'cg-ch', 'ch-ci', 'ci-ejj', 'ejj-f', 'f-g']}, {'total_streets': 7, 'street_names': ['cij-cja', 'cja-cjb', 'cjb-cjc', 'cjc-cjd', 'cjd-cje', 'cje-ejj', 'ejj-if']}, {'total_streets': 10, 'street_names': ['dbg-dbh', 'dbh-dbi', 'dbi-dbj', 'dbj-dca', 'dca-ejj', 'ejj-baj', 'baj-bba', 'bba-bbb', 'bbb-bbc', 'bbc-bbd']}, {'total_streets': 10, 'street_names': ['ejj-dcb', 'dcb-dcc', 'dcc-dcd', 'dcd-dce', 'dce-dcf', 'dcf-dcg', 'dcg-dch', 'dch-dci', 'dci-dcj', 'dcj-dda']}, {'total_streets': 5, 'street_names': ['edi-edj', 'edj-eea', 'eea-eeb', 'eeb-eec', 'eec-ejj']}, {'total_streets': 2, 'street_names': ['bgf-bgg', 'bgg-ejj']}, {'total_streets': 5, 'street_names': ['dhc-dhd', 'dhd-dhe', 'dhe-ejj', 'ejj-hh', 'hh-hi']}, {'total_streets': 6, 'street_names': ['dfi-dfj', 'dfj-dga', 'dga-dgb', 'dgb-dgc', 'dgc-dgd', 'dgd-dge']}, {'total_streets': 9, 'street_names': ['ejj-ecj', 'ecj-eda', 'eda-edb', 'edb-edc', 'edc-edd', 'edd-ede', 'ede-edf', 'edf-edg', 'edg-edh']}, {'total_streets': 10, 'street_names': ['bf-bg', 'bg-bh', 'bh-bi', 'bi-ejj', 'ejj-cab', 'cab-cac', 'cac-cad', 'cad-cae', 'cae-caf', 'caf-cag']}, {'total_streets': 6, 'street_names': ['dac-ejj', 'ejj-fj', 'fj-ga', 'ga-gb', 'gb-gc', 'gc-gd']}, {'total_streets': 6, 'street_names': ['dji-djj', 'djj-eaa', 'eaa-ejj', 'ejj-eaf', 'eaf-eag', 'eag-eah']}, {'total_streets': 2, 'street_names': ['cgi-ejj', 'ejj-h']}, {'total_streets': 10, 'street_names': ['cie-ejj', 'ejj-efj', 'efj-ega', 'ega-egb', 'egb-egc', 'egc-egd', 'egd-ege', 'ege-egf', 'egf-egg', 'egg-egh']}, {'total_streets': 8, 'street_names': ['he-ejj', 'ejj-baj', 'baj-bba', 'bba-bbb', 'bbb-bbc', 'bbc-bbd', 'bbd-bbe', 'bbe-bbf']}, {'total_streets': 6, 'street_names': ['cjj-daa', 'daa-ejj', 'ejj-ehd', 'ehd-ehe', 'ehe-ehf', 'ehf-ehg']}, {'total_streets': 3, 'street_names': ['ejj-eaf', 'eaf-eag', 'eag-eah']}, {'total_streets': 6, 'street_names': ['ecc-ecd', 'ecd-ece', 'ece-ejj', 'ejj-bbj', 'bbj-bca', 'bca-bcb']}, {'total_streets': 9, 'street_names': ['efa-efb', 'efb-efc', 'efc-ejj', 'ejj-dhh', 'dhh-dhi', 'dhi-dhj', 'dhj-dia', 'dia-dib', 'dib-dic']}, {'total_streets': 3, 'street_names': ['ejd-eje', 'eje-ejf', 'ejf-ejg']}, {'total_streets': 2, 'street_names': ['efc-efd', 'efd-efe']}, {'total_streets': 9, 'street_names': ['ejj-chf', 'chf-chg', 'chg-chh', 'chh-chi', 'chi-chj', 'chj-cia', 'cia-cib', 'cib-cic', 'cic-cid']}, {'total_streets': 7, 'street_names': ['cif-cig', 'cig-ejj', 'ejj-bb', 'bb-bc', 'bc-bd', 'bd-be', 'be-bf']}, {'total_streets': 2, 'street_names': ['ejj-fh', 'fh-fi']}, {'total_streets': 4, 'street_names': ['ejj-id', 'id-ie', 'ie-if', 'if-ig']}, {'total_streets': 2, 'street_names': ['bje-ejj', 'ejj-bj']}, {'total_streets': 10, 'street_names': ['ejj-cdb', 'cdb-cdc', 'cdc-cdd', 'cdd-cde', 'cde-cdf', 'cdf-cdg', 'cdg-cdh', 'cdh-cdi', 'cdi-cdj', 'cdj-cea']}, {'total_streets': 3, 'street_names': ['fa-fb', 'fb-fc', 'fc-fd']}, {'total_streets': 4, 'street_names': ['bej-bfa', 'bfa-bfb', 'bfb-bfc', 'bfc-ejj']}, {'total_streets': 2, 'street_names': ['dcf-dcg', 'dcg-ejj']}, {'total_streets': 9, 'street_names': ['dai-daj', 'daj-dba', 'dba-ejj', 'ejj-ehj', 'ehj-eia', 'eia-eib', 'eib-eic', 'eic-eid', 'eid-eie']}, {'total_streets': 10, 'street_names': ['ejj-jj', 'jj-baa', 'baa-bab', 'bab-bac', 'bac-bad', 'bad-bae', 'bae-baf', 'baf-bag', 'bag-bah', 'bah-bai']}, {'total_streets': 6, 'street_names': ['bhc-bhd', 'bhd-bhe', 'bhe-bhf', 'bhf-bhg', 'bhg-ejj', 'ejj-dej']}, {'total_streets': 6, 'street_names': ['ejj-ddf', 'ddf-ddg', 'ddg-ddh', 'ddh-ddi', 'ddi-ddj', 'ddj-dea']}, {'total_streets': 3, 'street_names': ['ccc-ccd', 'ccd-cce', 'cce-ejj']}, {'total_streets': 8, 'street_names': ['ccg-ejj', 'ejj-ded', 'ded-dee', 'dee-def', 'def-deg', 'deg-deh', 'deh-dei', 'dei-dej']}, {'total_streets': 8, 'street_names': ['bgg-ejj', 'ejj-bdb', 'bdb-bdc', 'bdc-bdd', 'bdd-bde', 'bde-bdf', 'bdf-bdg', 'bdg-bdh']}, {'total_streets': 7, 'street_names': ['ejj-bih', 'bih-bii', 'bii-bij', 'bij-bja', 'bja-bjb', 'bjb-bjc', 'bjc-bjd']}, {'total_streets': 4, 'street_names': ['eic-ejj', 'ejj-fj', 'fj-ga', 'ga-gb']}, {'total_streets': 6, 'street_names': ['dii-ejj', 'ejj-cbh', 'cbh-cbi', 'cbi-cbj', 'cbj-cca', 'cca-ccb']}, {'total_streets': 10, 'street_names': ['ejj-egh', 'egh-egi', 'egi-egj', 'egj-eha', 'eha-ehb', 'ehb-ehc', 'ehc-ehd', 'ehd-ehe', 'ehe-ehf', 'ehf-ehg']}, {'total_streets': 2, 'street_names': ['ejj-cif', 'cif-cig']}, {'total_streets': 10, 'street_names': ['ejj-gj', 'gj-ha', 'ha-hb', 'hb-hc', 'hc-hd', 'hd-he', 'he-hf', 'hf-hg', 'hg-hh', 'hh-hi']}, {'total_streets': 7, 'street_names': ['ejj-cfh', 'cfh-cfi', 'cfi-cfj', 'cfj-cga', 'cga-cgb', 'cgb-cgc', 'cgc-cgd']}, {'total_streets': 9, 'street_names': ['ejj-chd', 'chd-che', 'che-chf', 'chf-chg', 'chg-chh', 'chh-chi', 'chi-chj', 'chj-cia', 'cia-cib']}, {'total_streets': 10, 'street_names': ['efd-efe', 'efe-ejj', 'ejj-cfd', 'cfd-cfe', 'cfe-cff', 'cff-cfg', 'cfg-cfh', 'cfh-cfi', 'cfi-cfj', 'cfj-cga']}, {'total_streets': 7, 'street_names': ['ceg-ceh', 'ceh-cei', 'cei-ejj', 'ejj-bgh', 'bgh-bgi', 'bgi-bgj', 'bgj-bha']}, {'total_streets': 4, 'street_names': ['eje-ejj', 'ejj-egd', 'egd-ege', 'ege-egf']}, {'total_streets': 8, 'street_names': ['jb-jc', 'jc-jd', 'jd-je', 'je-jf', 'jf-jg', 'jg-jh', 'jh-ji', 'ji-ejj']}, {'total_streets': 10, 'street_names': ['ej-fa', 'fa-ejj', 'ejj-bb', 'bb-bc', 'bc-bd', 'bd-be', 'be-bf', 'bf-bg', 'bg-bh', 'bh-bi']}, {'total_streets': 4, 'street_names': ['cia-ejj', 'ejj-ebd', 'ebd-ebe', 'ebe-ebf']}, {'total_streets': 10, 'street_names': ['dih-dii', 'dii-dij', 'dij-dja', 'dja-djb', 'djb-djc', 'djc-djd', 'djd-dje', 'dje-ejj', 'ejj-bcj', 'bcj-bda']}, {'total_streets': 8, 'street_names': ['bae-baf', 'baf-bag', 'bag-bah', 'bah-bai', 'bai-baj', 'baj-bba', 'bba-ejj', 'ejj-bef']}, {'total_streets': 10, 'street_names': ['dhe-dhf', 'dhf-dhg', 'dhg-dhh', 'dhh-dhi', 'dhi-dhj', 'dhj-dia', 'dia-dib', 'dib-dic', 'dic-ejj', 'ejj-chf']}, {'total_streets': 10, 'street_names': ['caa-ejj', 'ejj-j', 'j-ba', 'ba-bb', 'bb-bc', 'bc-bd', 'bd-be', 'be-bf', 'bf-bg', 'bg-bh']}, {'total_streets': 7, 'street_names': ['bjg-bjh', 'bjh-bji', 'bji-bjj', 'bjj-caa', 'caa-ejj', 'ejj-ecd', 'ecd-ece']}, {'total_streets': 4, 'street_names': ['bgb-bgc', 'bgc-bgd', 'bgd-bge', 'bge-ejj']}, {'total_streets': 5, 'street_names': ['bjd-bje', 'bje-ejj', 'ejj-dfj', 'dfj-dga', 'dga-dgb']}, {'total_streets': 3, 'street_names': ['dhi-dhj', 'dhj-dia', 'dia-dib']}, {'total_streets': 4, 'street_names': ['eai-ejj', 'ejj-beb', 'beb-bec', 'bec-bed']}, {'total_streets': 7, 'street_names': ['bbe-bbf', 'bbf-bbg', 'bbg-ejj', 'ejj-eif', 'eif-eig', 'eig-eih', 'eih-eii']}, {'total_streets': 3, 'street_names': ['bcb-bcc', 'bcc-ejj', 'ejj-dh']}, {'total_streets': 5, 'street_names': ['cjb-cjc', 'cjc-cjd', 'cjd-cje', 'cje-ejj', 'ejj-eed']}, {'total_streets': 10, 'street_names': ['bdh-bdi', 'bdi-ejj', 'ejj-edd', 'edd-ede', 'ede-edf', 'edf-edg', 'edg-edh', 'edh-edi', 'edi-edj', 'edj-eea']}, {'total_streets': 4, 'street_names': ['bh-bi', 'bi-ejj', 'ejj-cb', 'cb-cc']}, {'total_streets': 4, 'street_names': ['ejj-eij', 'eij-eja', 'eja-ejb', 'ejb-ejc']}, {'total_streets': 4, 'street_names': ['ja-ejj', 'ejj-daj', 'daj-dba', 'dba-dbb']}, {'total_streets': 7, 'street_names': ['efi-ejj', 'ejj-bdd', 'bdd-bde', 'bde-bdf', 'bdf-bdg', 'bdg-bdh', 'bdh-bdi']}, {'total_streets': 8, 'street_names': ['ejj-chj', 'chj-cia', 'cia-cib', 'cib-cic', 'cic-cid', 'cid-cie', 'cie-cif', 'cif-cig']}, {'total_streets': 7, 'street_names': ['cai-caj', 'caj-cba', 'cba-cbb', 'cbb-cbc', 'cbc-cbd', 'cbd-cbe', 'cbe-ejj']}, {'total_streets': 10, 'street_names': ['cej-cfa', 'cfa-ejj', 'ejj-eh', 'eh-ei', 'ei-ej', 'ej-fa', 'fa-fb', 'fb-fc', 'fc-fd', 'fd-fe']}, {'total_streets': 2, 'street_names': ['ejj-cgf', 'cgf-cgg']}, {'total_streets': 5, 'street_names': ['cbg-ejj', 'ejj-bah', 'bah-bai', 'bai-baj', 'baj-bba']}, {'total_streets': 5, 'street_names': ['eg-ejj', 'ejj-chf', 'chf-chg', 'chg-chh', 'chh-chi']}, {'total_streets': 7, 'street_names': ['ejj-cgd', 'cgd-cge', 'cge-cgf', 'cgf-cgg', 'cgg-cgh', 'cgh-cgi', 'cgi-cgj']}, {'total_streets': 2, 'street_names': ['ejj-cd', 'cd-ce']}, {'total_streets': 4, 'street_names': ['bhb-bhc', 'bhc-ejj', 'ejj-dgh', 'dgh-dgi']}, {'total_streets': 5, 'street_names': ['cdf-cdg', 'cdg-ejj', 'ejj-gb', 'gb-gc', 'gc-gd']}, {'total_streets': 10, 'street_names': ['bge-bgf', 'bgf-bgg', 'bgg-bgh', 'bgh-bgi', 'bgi-bgj', 'bgj-bha', 'bha-bhb', 'bhb-bhc', 'bhc-bhd', 'bhd-bhe']}, {'total_streets': 7, 'street_names': ['je-jf', 'jf-jg', 'jg-jh', 'jh-ji', 'ji-jj', 'jj-baa', 'baa-ejj']}, {'total_streets': 10, 'street_names': ['dgc-dgd', 'dgd-dge', 'dge-ejj', 'ejj-ij', 'ij-ja', 'ja-jb', 'jb-jc', 'jc-jd', 'jd-je', 'je-jf']}, {'total_streets': 8, 'street_names': ['ecc-ejj', 'ejj-cbj', 'cbj-cca', 'cca-ccb', 'ccb-ccc', 'ccc-ccd', 'ccd-cce', 'cce-ccf']}, {'total_streets': 9, 'street_names': ['i-ejj', 'ejj-def', 'def-deg', 'deg-deh', 'deh-dei', 'dei-dej', 'dej-dfa', 'dfa-dfb', 'dfb-dfc']}, {'total_streets': 3, 'street_names': ['bhb-bhc', 'bhc-ejj', 'ejj-cdb']}, {'total_streets': 10, 'street_names': ['die-ejj', 'ejj-gd', 'gd-ge', 'ge-gf', 'gf-gg', 'gg-gh', 'gh-gi', 'gi-gj', 'gj-ha', 'ha-hb']}, {'total_streets': 2, 'street_names': ['ejj-ej', 'ej-fa']}, {'total_streets': 6, 'street_names': ['bee-ejj', 'ejj-ded', 'ded-dee', 'dee-def', 'def-deg', 'deg-deh']}, {'total_streets': 8, 'street_names': ['djg-djh', 'djh-dji', 'dji-djj', 'djj-eaa', 'eaa-eab', 'eab-eac', 'eac-ead', 'ead-eae']}, {'total_streets': 2, 'street_names': ['cdg-ejj', 'ejj-dbb']}, {'total_streets': 3, 'street_names': ['cff-cfg', 'cfg-cfh', 'cfh-cfi']}, {'total_streets': 3, 'street_names': ['ha-ejj', 'ejj-dgh', 'dgh-dgi']}, {'total_streets': 7, 'street_names': ['bcg-ejj', 'ejj-ff', 'ff-fg', 'fg-fh', 'fh-fi', 'fi-fj', 'fj-ga']}, {'total_streets': 7, 'street_names': ['cii-cij', 'cij-cja', 'cja-ejj', 'ejj-fh', 'fh-fi', 'fi-fj', 'fj-ga']}, {'total_streets': 7, 'street_names': ['ejj-jf', 'jf-jg', 'jg-jh', 'jh-ji', 'ji-jj', 'jj-baa', 'baa-bab']}, {'total_streets': 7, 'street_names': ['ede-ejj', 'ejj-ddb', 'ddb-ddc', 'ddc-ddd', 'ddd-dde', 'dde-ddf', 'ddf-ddg']}, {'total_streets': 2, 'street_names': ['bjd-bje', 'bje-ejj']}, {'total_streets': 2, 'street_names': ['eha-ejj', 'ejj-ceb']}, {'total_streets': 10, 'street_names': ['dfe-dff', 'dff-dfg', 'dfg-ejj', 'ejj-dj', 'dj-ea', 'ea-eb', 'eb-ec', 'ec-ed', 'ed-ee', 'ee-ef']}, {'total_streets': 4, 'street_names': ['eag-ejj', 'ejj-bjb', 'bjb-bjc', 'bjc-bjd']}, {'total_streets': 4, 'street_names': ['bdj-bea', 'bea-ejj', 'ejj-h', 'h-i']}, {'total_streets': 9, 'street_names': ['beb-bec', 'bec-ejj', 'ejj-dcb', 'dcb-dcc', 'dcc-dcd', 'dcd-dce', 'dce-dcf', 'dcf-dcg', 'dcg-dch']}, {'total_streets': 7, 'street_names': ['egi-ejj', 'ejj-djh', 'djh-dji', 'dji-djj', 'djj-eaa', 'eaa-eab', 'eab-eac']}, {'total_streets': 7, 'street_names': ['dhc-dhd', 'dhd-dhe', 'dhe-ejj', 'ejj-eij', 'eij-eja', 'eja-ejb', 'ejb-ejc']}, {'total_streets': 7, 'street_names': ['ejj-beb', 'beb-bec', 'bec-bed', 'bed-bee', 'bee-bef', 'bef-beg', 'beg-beh']}, {'total_streets': 8, 'street_names': ['ejj-dgj', 'dgj-dha', 'dha-dhb', 'dhb-dhc', 'dhc-dhd', 'dhd-dhe', 'dhe-dhf', 'dhf-dhg']}, {'total_streets': 9, 'street_names': ['dg-ejj', 'ejj-cgd', 'cgd-cge', 'cge-cgf', 'cgf-cgg', 'cgg-cgh', 'cgh-cgi', 'cgi-cgj', 'cgj-cha']}, {'total_streets': 5, 'street_names': ['chg-ejj', 'ejj-cbd', 'cbd-cbe', 'cbe-cbf', 'cbf-cbg']}, {'total_streets': 4, 'street_names': ['ejj-bcf', 'bcf-bcg', 'bcg-bch', 'bch-bci']}, {'total_streets': 2, 'street_names': ['cbg-cbh', 'cbh-cbi']}, {'total_streets': 4, 'street_names': ['ejj-eff', 'eff-efg', 'efg-efh', 'efh-efi']}, {'total_streets': 10, 'street_names': ['ejj-dgb', 'dgb-dgc', 'dgc-dgd', 'dgd-dge', 'dge-dgf', 'dgf-dgg', 'dgg-dgh', 'dgh-dgi', 'dgi-dgj', 'dgj-dha']}, {'total_streets': 8, 'street_names': ['dcc-ejj', 'ejj-cd', 'cd-ce', 'ce-cf', 'cf-cg', 'cg-ch', 'ch-ci', 'ci-cj']}, {'total_streets': 3, 'street_names': ['cea-ejj', 'ejj-bij', 'bij-bja']}, {'total_streets': 7, 'street_names': ['dbi-dbj', 'dbj-dca', 'dca-dcb', 'dcb-dcc', 'dcc-dcd', 'dcd-dce', 'dce-dcf']}, {'total_streets': 9, 'street_names': ['ejj-ccb', 'ccb-ccc', 'ccc-ccd', 'ccd-cce', 'cce-ccf', 'ccf-ccg', 'ccg-cch', 'cch-cci', 'cci-ccj']}, {'total_streets': 7, 'street_names': ['dgc-dgd', 'dgd-dge', 'dge-dgf', 'dgf-dgg', 'dgg-dgh', 'dgh-dgi', 'dgi-ejj']}, {'total_streets': 10, 'street_names': ['ced-cee', 'cee-ejj', 'ejj-bij', 'bij-bja', 'bja-bjb', 'bjb-bjc', 'bjc-bjd', 'bjd-bje', 'bje-bjf', 'bjf-bjg']}, {'total_streets': 9, 'street_names': ['jc-jd', 'jd-je', 'je-jf', 'jf-jg', 'jg-jh', 'jh-ji', 'ji-ejj', 'ejj-dgb', 'dgb-dgc']}, {'total_streets': 4, 'street_names': ['ejj-bff', 'bff-bfg', 'bfg-bfh', 'bfh-bfi']}, {'total_streets': 4, 'street_names': ['ejj-bed', 'bed-bee', 'bee-bef', 'bef-beg']}, {'total_streets': 10, 'street_names': ['cii-ejj', 'ejj-eij', 'eij-eja', 'eja-ejb', 'ejb-ejc', 'ejc-ejd', 'ejd-eje', 'eje-ejf', 'ejf-ejg', 'ejg-ejh']}, {'total_streets': 7, 'street_names': ['bgg-bgh', 'bgh-bgi', 'bgi-ejj', 'ejj-gd', 'gd-ge', 'ge-gf', 'gf-gg']}, {'total_streets': 4, 'street_names': ['ejj-eeb', 'eeb-eec', 'eec-eed', 'eed-eee']}, {'total_streets': 2, 'street_names': ['ejj-bgd', 'bgd-bge']}, {'total_streets': 5, 'street_names': ['ddh-ddi', 'ddi-ejj', 'ejj-ddb', 'ddb-ddc', 'ddc-ddd']}, {'total_streets': 5, 'street_names': ['bih-bii', 'bii-ejj', 'ejj-cjf', 'cjf-cjg', 'cjg-cjh']}, {'total_streets': 8, 'street_names': ['bhb-bhc', 'bhc-bhd', 'bhd-bhe', 'bhe-ejj', 'ejj-dbb', 'dbb-dbc', 'dbc-dbd', 'dbd-dbe']}, {'total_streets': 5, 'street_names': ['jc-ejj', 'ejj-ib', 'ib-ic', 'ic-id', 'id-ie']}, {'total_streets': 3, 'street_names': ['dba-ejj', 'ejj-ij', 'ij-ja']}, {'total_streets': 2, 'street_names': ['ejj-bbj', 'bbj-bca']}, {'total_streets': 10, 'street_names': ['cdd-cde', 'cde-ejj', 'ejj-cjh', 'cjh-cji', 'cji-cjj', 'cjj-daa', 'daa-dab', 'dab-dac', 'dac-dad', 'dad-dae']}, {'total_streets': 4, 'street_names': ['ei-ej', 'ej-fa', 'fa-fb', 'fb-fc']}, {'total_streets': 2, 'street_names': ['deb-dec', 'dec-ded']}, {'total_streets': 4, 'street_names': ['ejj-dcb', 'dcb-dcc', 'dcc-dcd', 'dcd-dce']}, {'total_streets': 4, 'street_names': ['dfa-dfb', 'dfb-dfc', 'dfc-dfd', 'dfd-dfe']}, {'total_streets': 2, 'street_names': ['dde-ddf', 'ddf-ddg']}, {'total_streets': 9, 'street_names': ['ha-ejj', 'ejj-dah', 'dah-dai', 'dai-daj', 'daj-dba', 'dba-dbb', 'dbb-dbc', 'dbc-dbd', 'dbd-dbe']}, {'total_streets': 3, 'street_names': ['eea-ejj', 'ejj-ejd', 'ejd-eje']}, {'total_streets': 3, 'street_names': ['beb-bec', 'bec-bed', 'bed-bee']}, {'total_streets': 7, 'street_names': ['gb-gc', 'gc-ejj', 'ejj-bfd', 'bfd-bfe', 'bfe-bff', 'bff-bfg', 'bfg-bfh']}, {'total_streets': 10, 'street_names': ['bhe-bhf', 'bhf-bhg', 'bhg-bhh', 'bhh-bhi', 'bhi-ejj', 'ejj-ehb', 'ehb-ehc', 'ehc-ehd', 'ehd-ehe', 'ehe-ehf']}, {'total_streets': 2, 'street_names': ['edd-ede', 'ede-edf']}, {'total_streets': 2, 'street_names': ['ee-ef', 'ef-eg']}, {'total_streets': 9, 'street_names': ['bfa-bfb', 'bfb-bfc', 'bfc-ejj', 'ejj-bd', 'bd-be', 'be-bf', 'bf-bg', 'bg-bh', 'bh-bi']}, {'total_streets': 5, 'street_names': ['ejj-h', 'h-i', 'i-j', 'j-ba', 'ba-bb']}, {'total_streets': 6, 'street_names': ['ja-ejj', 'ejj-cjh', 'cjh-cji', 'cji-cjj', 'cjj-daa', 'daa-dab']}, {'total_streets': 2, 'street_names': ['ejj-cf', 'cf-cg']}, {'total_streets': 3, 'street_names': ['efi-efj', 'efj-ega', 'ega-egb']}, {'total_streets': 4, 'street_names': ['bjj-caa', 'caa-cab', 'cab-cac', 'cac-cad']}, {'total_streets': 6, 'street_names': ['ejj-ddf', 'ddf-ddg', 'ddg-ddh', 'ddh-ddi', 'ddi-ddj', 'ddj-dea']}, {'total_streets': 3, 'street_names': ['ejj-cgd', 'cgd-cge', 'cge-cgf']}, {'total_streets': 9, 'street_names': ['ejj-chj', 'chj-cia', 'cia-cib', 'cib-cic', 'cic-cid', 'cid-cie', 'cie-cif', 'cif-cig', 'cig-cih']}, {'total_streets': 4, 'street_names': ['ejj-eah', 'eah-eai', 'eai-eaj', 'eaj-eba']}, {'total_streets': 5, 'street_names': ['ejj-ehf', 'ehf-ehg', 'ehg-ehh', 'ehh-ehi', 'ehi-ehj']}, {'total_streets': 9, 'street_names': ['ejj-cjb', 'cjb-cjc', 'cjc-cjd', 'cjd-cje', 'cje-cjf', 'cjf-cjg', 'cjg-cjh', 'cjh-cji', 'cji-cjj']}, {'total_streets': 7, 'street_names': ['ejj-edf', 'edf-edg', 'edg-edh', 'edh-edi', 'edi-edj', 'edj-eea', 'eea-eeb']}, {'total_streets': 6, 'street_names': ['daf-dag', 'dag-dah', 'dah-dai', 'dai-daj', 'daj-dba', 'dba-ejj']}, {'total_streets': 3, 'street_names': ['ejj-dgj', 'dgj-dha', 'dha-dhb']}, {'total_streets': 4, 'street_names': ['bja-bjb', 'bjb-bjc', 'bjc-ejj', 'ejj-ef']}, {'total_streets': 5, 'street_names': ['ejj-gd', 'gd-ge', 'ge-gf', 'gf-gg', 'gg-gh']}, {'total_streets': 3, 'street_names': ['cgj-cha', 'cha-ejj', 'ejj-dfd']}, {'total_streets': 9, 'street_names': ['edg-ejj', 'ejj-cdj', 'cdj-cea', 'cea-ceb', 'ceb-cec', 'cec-ced', 'ced-cee', 'cee-cef', 'cef-ceg']}, {'total_streets': 8, 'street_names': ['dah-dai', 'dai-ejj', 'ejj-edb', 'edb-edc', 'edc-edd', 'edd-ede', 'ede-edf', 'edf-edg']}, {'total_streets': 6, 'street_names': ['dfi-ejj', 'ejj-djb', 'djb-djc', 'djc-djd', 'djd-dje', 'dje-djf']}, {'total_streets': 9, 'street_names': ['ddb-ddc', 'ddc-ejj', 'ejj-cdf', 'cdf-cdg', 'cdg-cdh', 'cdh-cdi', 'cdi-cdj', 'cdj-cea', 'cea-ceb']}, {'total_streets': 4, 'street_names': ['dc-ejj', 'ejj-ih', 'ih-ii', 'ii-ij']}, {'total_streets': 5, 'street_names': ['bdc-bdd', 'bdd-bde', 'bde-ejj', 'ejj-ej', 'ej-fa']}, {'total_streets': 8, 'street_names': ['chi-chj', 'chj-cia', 'cia-cib', 'cib-cic', 'cic-cid', 'cid-cie', 'cie-cif', 'cif-cig']}, {'total_streets': 10, 'street_names': ['cad-cae', 'cae-ejj', 'ejj-bbh', 'bbh-bbi', 'bbi-bbj', 'bbj-bca', 'bca-bcb', 'bcb-bcc', 'bcc-bcd', 'bcd-bce']}, {'total_streets': 7, 'street_names': ['ejj-ch', 'ch-ci', 'ci-cj', 'cj-da', 'da-db', 'db-dc', 'dc-dd']}, {'total_streets': 3, 'street_names': ['eag-eah', 'eah-eai', 'eai-ejj']}, {'total_streets': 5, 'street_names': ['beh-bei', 'bei-bej', 'bej-bfa', 'bfa-ejj', 'ejj-cfh']}, {'total_streets': 9, 'street_names': ['bee-ejj', 'ejj-ebj', 'ebj-eca', 'eca-ecb', 'ecb-ecc', 'ecc-ecd', 'ecd-ece', 'ece-ecf', 'ecf-ecg']}, {'total_streets': 5, 'street_names': ['ccg-ejj', 'ejj-cbd', 'cbd-cbe', 'cbe-cbf', 'cbf-cbg']}, {'total_streets': 8, 'street_names': ['cgi-ejj', 'ejj-cfb', 'cfb-cfc', 'cfc-cfd', 'cfd-cfe', 'cfe-cff', 'cff-cfg', 'cfg-cfh']}, {'total_streets': 6, 'street_names': ['dcc-dcd', 'dcd-dce', 'dce-dcf', 'dcf-dcg', 'dcg-ejj', 'ejj-ejb']}, {'total_streets': 9, 'street_names': ['dba-ejj', 'ejj-bbf', 'bbf-bbg', 'bbg-bbh', 'bbh-bbi', 'bbi-bbj', 'bbj-bca', 'bca-bcb', 'bcb-bcc']}, {'total_streets': 3, 'street_names': ['bic-ejj', 'ejj-cd', 'cd-ce']}, {'total_streets': 3, 'street_names': ['efi-ejj', 'ejj-ebh', 'ebh-ebi']}, {'total_streets': 5, 'street_names': ['ejj-eef', 'eef-eeg', 'eeg-eeh', 'eeh-eei', 'eei-eej']}, {'total_streets': 2, 'street_names': ['ejj-dh', 'dh-di']}, {'total_streets': 9, 'street_names': ['dih-dii', 'dii-dij', 'dij-dja', 'dja-ejj', 'ejj-ff', 'ff-fg', 'fg-fh', 'fh-fi', 'fi-fj']}, {'total_streets': 2, 'street_names': ['bgg-ejj', 'ejj-djb']}, {'total_streets': 8, 'street_names': ['ejc-ejj', 'ejj-jf', 'jf-jg', 'jg-jh', 'jh-ji', 'ji-jj', 'jj-baa', 'baa-bab']}, {'total_streets': 10, 'street_names': ['gg-gh', 'gh-gi', 'gi-gj', 'gj-ha', 'ha-ejj', 'ejj-hj', 'hj-ia', 'ia-ib', 'ib-ic', 'ic-id']}, {'total_streets': 5, 'street_names': ['ge-ejj', 'ejj-id', 'id-ie', 'ie-if', 'if-ig']}, {'total_streets': 4, 'street_names': ['ejj-egf', 'egf-egg', 'egg-egh', 'egh-egi']}, {'total_streets': 10, 'street_names': ['ejj-cif', 'cif-cig', 'cig-cih', 'cih-cii', 'cii-cij', 'cij-cja', 'cja-cjb', 'cjb-cjc', 'cjc-cjd', 'cjd-cje']}, {'total_streets': 10, 'street_names': ['eed-eee', 'eee-ejj', 'ejj-ddj', 'ddj-dea', 'dea-deb', 'deb-dec', 'dec-ded', 'ded-dee', 'dee-def', 'def-deg']}, {'total_streets': 7, 'street_names': ['eai-ejj', 'ejj-ddf', 'ddf-ddg', 'ddg-ddh', 'ddh-ddi', 'ddi-ddj', 'ddj-dea']}, {'total_streets': 2, 'street_names': ['bde-ejj', 'ejj-eb']}, {'total_streets': 9, 'street_names': ['ddg-ejj', 'ejj-caf', 'caf-cag', 'cag-cah', 'cah-cai', 'cai-caj', 'caj-cba', 'cba-cbb', 'cbb-cbc']}, {'total_streets': 4, 'street_names': ['ejj-cbb', 'cbb-cbc', 'cbc-cbd', 'cbd-cbe']}, {'total_streets': 2, 'street_names': ['bfc-bfd', 'bfd-bfe']}, {'total_streets': 9, 'street_names': ['die-dif', 'dif-dig', 'dig-dih', 'dih-dii', 'dii-dij', 'dij-dja', 'dja-djb', 'djb-djc', 'djc-djd']}, {'total_streets': 2, 'street_names': ['f-g', 'g-ejj']}, {'total_streets': 7, 'street_names': ['ejj-bah', 'bah-bai', 'bai-baj', 'baj-bba', 'bba-bbb', 'bbb-bbc', 'bbc-bbd']}, {'total_streets': 4, 'street_names': ['ejj-dah', 'dah-dai', 'dai-daj', 'daj-dba']}, {'total_streets': 5, 'street_names': ['bgd-bge', 'bge-ejj', 'ejj-bhf', 'bhf-bhg', 'bhg-bhh']}, {'total_streets': 8, 'street_names': ['djb-djc', 'djc-ejj', 'ejj-ejf', 'ejf-ejg', 'ejg-ejh', 'ejh-eji', 'eji-a', 'a-b']}, {'total_streets': 3, 'street_names': ['bhc-bhd', 'bhd-bhe', 'bhe-bhf']}, {'total_streets': 8, 'street_names': ['cii-cij', 'cij-cja', 'cja-ejj', 'ejj-ch', 'ch-ci', 'ci-cj', 'cj-da', 'da-db']}, {'total_streets': 6, 'street_names': ['ejj-bdf', 'bdf-bdg', 'bdg-bdh', 'bdh-bdi', 'bdi-bdj', 'bdj-bea']}, {'total_streets': 9, 'street_names': ['cab-cac', 'cac-ejj', 'ejj-db', 'db-dc', 'dc-dd', 'dd-de', 'de-df', 'df-dg', 'dg-dh']}, {'total_streets': 8, 'street_names': ['c-d', 'd-e', 'e-ejj', 'ejj-ccd', 'ccd-cce', 'cce-ccf', 'ccf-ccg', 'ccg-cch']}, {'total_streets': 7, 'street_names': ['bcg-ejj', 'ejj-bjd', 'bjd-bje', 'bje-bjf', 'bjf-bjg', 'bjg-bjh', 'bjh-bji']}, {'total_streets': 6, 'street_names': ['ejj-dah', 'dah-dai', 'dai-daj', 'daj-dba', 'dba-dbb', 'dbb-dbc']}, {'total_streets': 5, 'street_names': ['ejj-cgd', 'cgd-cge', 'cge-cgf', 'cgf-cgg', 'cgg-cgh']}, {'total_streets': 9, 'street_names': ['bje-bjf', 'bjf-bjg', 'bjg-ejj', 'ejj-chd', 'chd-che', 'che-chf', 'chf-chg', 'chg-chh', 'chh-chi']}, {'total_streets': 7, 'street_names': ['ejj-jf', 'jf-jg', 'jg-jh', 'jh-ji', 'ji-jj', 'jj-baa', 'baa-bab']}, {'total_streets': 3, 'street_names': ['dfi-dfj', 'dfj-dga', 'dga-ejj']}, {'total_streets': 10, 'street_names': ['ehf-ehg', 'ehg-ejj', 'ejj-eaj', 'eaj-eba', 'eba-ebb', 'ebb-ebc', 'ebc-ebd', 'ebd-ebe', 'ebe-ebf', 'ebf-ebg']}, {'total_streets': 6, 'street_names': ['efd-efe', 'efe-ejj', 'ejj-bcj', 'bcj-bda', 'bda-bdb', 'bdb-bdc']}, {'total_streets': 5, 'street_names': ['dce-ejj', 'ejj-ccj', 'ccj-cda', 'cda-cdb', 'cdb-cdc']}, {'total_streets': 8, 'street_names': ['ejj-eaj', 'eaj-eba', 'eba-ebb', 'ebb-ebc', 'ebc-ebd', 'ebd-ebe', 'ebe-ebf', 'ebf-ebg']}, {'total_streets': 9, 'street_names': ['edi-ejj', 'ejj-eh', 'eh-ei', 'ei-ej', 'ej-fa', 'fa-fb', 'fb-fc', 'fc-fd', 'fd-fe']}, {'total_streets': 6, 'street_names': ['bcg-ejj', 'ejj-egj', 'egj-eha', 'eha-ehb', 'ehb-ehc', 'ehc-ehd']}, {'total_streets': 9, 'street_names': ['ejj-ejb', 'ejb-ejc', 'ejc-ejd', 'ejd-eje', 'eje-ejf', 'ejf-ejg', 'ejg-ejh', 'ejh-eji', 'eji-a']}, {'total_streets': 8, 'street_names': ['dhb-dhc', 'dhc-ejj', 'ejj-ebj', 'ebj-eca', 'eca-ecb', 'ecb-ecc', 'ecc-ecd', 'ecd-ece']}, {'total_streets': 3, 'street_names': ['ejj-fh', 'fh-fi', 'fi-fj']}, {'total_streets': 5, 'street_names': ['dca-ejj', 'ejj-cib', 'cib-cic', 'cic-cid', 'cid-cie']}, {'total_streets': 9, 'street_names': ['ejj-jh', 'jh-ji', 'ji-jj', 'jj-baa', 'baa-bab', 'bab-bac', 'bac-bad', 'bad-bae', 'bae-baf']}, {'total_streets': 3, 'street_names': ['bgg-ejj', 'ejj-ejd', 'ejd-eje']}, {'total_streets': 4, 'street_names': ['ejj-cb', 'cb-cc', 'cc-cd', 'cd-ce']}, {'total_streets': 9, 'street_names': ['ejj-ejb', 'ejb-ejc', 'ejc-ejd', 'ejd-eje', 'eje-ejf', 'ejf-ejg', 'ejg-ejh', 'ejh-eji', 'eji-a']}, {'total_streets': 9, 'street_names': ['ejj-cjh', 'cjh-cji', 'cji-cjj', 'cjj-daa', 'daa-dab', 'dab-dac', 'dac-dad', 'dad-dae', 'dae-daf']}, {'total_streets': 6, 'street_names': ['cdh-cdi', 'cdi-cdj', 'cdj-cea', 'cea-ceb', 'ceb-cec', 'cec-ced']}, {'total_streets': 10, 'street_names': ['efb-efc', 'efc-efd', 'efd-efe', 'efe-eff', 'eff-efg', 'efg-efh', 'efh-efi', 'efi-efj', 'efj-ega', 'ega-egb']}, {'total_streets': 7, 'street_names': ['ebb-ebc', 'ebc-ebd', 'ebd-ebe', 'ebe-ebf', 'ebf-ebg', 'ebg-ebh', 'ebh-ebi']}, {'total_streets': 4, 'street_names': ['cfa-cfb', 'cfb-cfc', 'cfc-ejj', 'ejj-bjj']}, {'total_streets': 2, 'street_names': ['cef-ceg', 'ceg-ejj']}, {'total_streets': 5, 'street_names': ['ejj-jh', 'jh-ji', 'ji-jj', 'jj-baa', 'baa-bab']}, {'total_streets': 9, 'street_names': ['ejj-dbb', 'dbb-dbc', 'dbc-dbd', 'dbd-dbe', 'dbe-dbf', 'dbf-dbg', 'dbg-dbh', 'dbh-dbi', 'dbi-dbj']}, {'total_streets': 3, 'street_names': ['eab-eac', 'eac-ead', 'ead-eae']}, {'total_streets': 9, 'street_names': ['djc-djd', 'djd-dje', 'dje-ejj', 'ejj-eaj', 'eaj-eba', 'eba-ebb', 'ebb-ebc', 'ebc-ebd', 'ebd-ebe']}, {'total_streets': 5, 'street_names': ['bfg-bfh', 'bfh-bfi', 'bfi-bfj', 'bfj-bga', 'bga-ejj']}, {'total_streets': 8, 'street_names': ['db-dc', 'dc-dd', 'dd-de', 'de-ejj', 'ejj-eaf', 'eaf-eag', 'eag-eah', 'eah-eai']}, {'total_streets': 9, 'street_names': ['ejj-ccd', 'ccd-cce', 'cce-ccf', 'ccf-ccg', 'ccg-cch', 'cch-cci', 'cci-ccj', 'ccj-cda', 'cda-cdb']}, {'total_streets': 7, 'street_names': ['dia-dib', 'dib-dic', 'dic-did', 'did-die', 'die-ejj', 'ejj-ej', 'ej-fa']}, {'total_streets': 8, 'street_names': ['ehe-ejj', 'ejj-cdj', 'cdj-cea', 'cea-ceb', 'ceb-cec', 'cec-ced', 'ced-cee', 'cee-cef']}, {'total_streets': 4, 'street_names': ['bid-bie', 'bie-bif', 'bif-big', 'big-bih']}, {'total_streets': 7, 'street_names': ['bi-ejj', 'ejj-egf', 'egf-egg', 'egg-egh', 'egh-egi', 'egi-egj', 'egj-eha']}, {'total_streets': 3, 'street_names': ['fd-fe', 'fe-ejj', 'ejj-eh']}, {'total_streets': 3, 'street_names': ['eeh-eei', 'eei-eej', 'eej-efa']}, {'total_streets': 6, 'street_names': ['dig-dih', 'dih-dii', 'dii-dij', 'dij-dja', 'dja-djb', 'djb-djc']}, {'total_streets': 6, 'street_names': ['bai-ejj', 'ejj-cff', 'cff-cfg', 'cfg-cfh', 'cfh-cfi', 'cfi-cfj']}, {'total_streets': 9, 'street_names': ['ejj-ead', 'ead-eae', 'eae-eaf', 'eaf-eag', 'eag-eah', 'eah-eai', 'eai-eaj', 'eaj-eba', 'eba-ebb']}, {'total_streets': 2, 'street_names': ['ejj-h', 'h-i']}, {'total_streets': 3, 'street_names': ['ejj-baf', 'baf-bag', 'bag-bah']}, {'total_streets': 7, 'street_names': ['ehb-ehc', 'ehc-ehd', 'ehd-ehe', 'ehe-ejj', 'ejj-bhf', 'bhf-bhg', 'bhg-bhh']}, {'total_streets': 7, 'street_names': ['cic-ejj', 'ejj-bhj', 'bhj-bia', 'bia-bib', 'bib-bic', 'bic-bid', 'bid-bie']}, {'total_streets': 7, 'street_names': ['bfi-bfj', 'bfj-bga', 'bga-bgb', 'bgb-bgc', 'bgc-bgd', 'bgd-bge', 'bge-bgf']}, {'total_streets': 9, 'street_names': ['ead-eae', 'eae-ejj', 'ejj-gh', 'gh-gi', 'gi-gj', 'gj-ha', 'ha-hb', 'hb-hc', 'hc-hd']}, {'total_streets': 2, 'street_names': ['bbd-bbe', 'bbe-ejj']}, {'total_streets': 2, 'street_names': ['ejj-eij', 'eij-eja']}, {'total_streets': 10, 'street_names': ['f-g', 'g-h', 'h-i', 'i-j', 'j-ba', 'ba-ejj', 'ejj-cjf', 'cjf-cjg', 'cjg-cjh', 'cjh-cji']}, {'total_streets': 5, 'street_names': ['ejj-ded', 'ded-dee', 'dee-def', 'def-deg', 'deg-deh']}, {'total_streets': 10, 'street_names': ['bc-ejj', 'ejj-cjj', 'cjj-daa', 'daa-dab', 'dab-dac', 'dac-dad', 'dad-dae', 'dae-daf', 'daf-dag', 'dag-dah']}, {'total_streets': 10, 'street_names': ['ejj-dch', 'dch-dci', 'dci-dcj', 'dcj-dda', 'dda-ddb', 'ddb-ddc', 'ddc-ddd', 'ddd-dde', 'dde-ddf', 'ddf-ddg']}, {'total_streets': 10, 'street_names': ['ejj-efd', 'efd-efe', 'efe-eff', 'eff-efg', 'efg-efh', 'efh-efi', 'efi-efj', 'efj-ega', 'ega-egb', 'egb-egc']}, {'total_streets': 2, 'street_names': ['def-deg', 'deg-deh']}, {'total_streets': 7, 'street_names': ['bha-bhb', 'bhb-bhc', 'bhc-bhd', 'bhd-bhe', 'bhe-ejj', 'ejj-dah', 'dah-dai']}, {'total_streets': 2, 'street_names': ['bhf-bhg', 'bhg-bhh']}, {'total_streets': 8, 'street_names': ['dcc-dcd', 'dcd-dce', 'dce-ejj', 'ejj-ejf', 'ejf-ejg', 'ejg-ejh', 'ejh-eji', 'eji-a']}, {'total_streets': 5, 'street_names': ['dbb-dbc', 'dbc-dbd', 'dbd-dbe', 'dbe-dbf', 'dbf-dbg']}, {'total_streets': 8, 'street_names': ['dba-ejj', 'ejj-ij', 'ij-ja', 'ja-jb', 'jb-jc', 'jc-jd', 'jd-je', 'je-jf']}, {'total_streets': 7, 'street_names': ['ddc-ejj', 'ejj-ddf', 'ddf-ddg', 'ddg-ddh', 'ddh-ddi', 'ddi-ddj', 'ddj-dea']}, {'total_streets': 4, 'street_names': ['e-ejj', 'ejj-ccj', 'ccj-cda', 'cda-cdb']}, {'total_streets': 9, 'street_names': ['f-g', 'g-ejj', 'ejj-ccf', 'ccf-ccg', 'ccg-cch', 'cch-cci', 'cci-ccj', 'ccj-cda', 'cda-cdb']}, {'total_streets': 8, 'street_names': ['dje-djf', 'djf-djg', 'djg-djh', 'djh-dji', 'dji-djj', 'djj-eaa', 'eaa-ejj', 'ejj-jj']}, {'total_streets': 6, 'street_names': ['bic-ejj', 'ejj-eed', 'eed-eee', 'eee-eef', 'eef-eeg', 'eeg-eeh']}, {'total_streets': 4, 'street_names': ['ejj-djb', 'djb-djc', 'djc-djd', 'djd-dje']}, {'total_streets': 9, 'street_names': ['cic-cid', 'cid-cie', 'cie-ejj', 'ejj-cih', 'cih-cii', 'cii-cij', 'cij-cja', 'cja-cjb', 'cjb-cjc']}, {'total_streets': 2, 'street_names': ['ejj-ccj', 'ccj-cda']}, {'total_streets': 7, 'street_names': ['ejj-ccj', 'ccj-cda', 'cda-cdb', 'cdb-cdc', 'cdc-cdd', 'cdd-cde', 'cde-cdf']}, {'total_streets': 7, 'street_names': ['bfh-bfi', 'bfi-ejj', 'ejj-efd', 'efd-efe', 'efe-eff', 'eff-efg', 'efg-efh']}, {'total_streets': 6, 'street_names': ['ejj-eh', 'eh-ei', 'ei-ej', 'ej-fa', 'fa-fb', 'fb-fc']}, {'total_streets': 7, 'street_names': ['bjh-bji', 'bji-bjj', 'bjj-caa', 'caa-ejj', 'ejj-baf', 'baf-bag', 'bag-bah']}, {'total_streets': 6, 'street_names': ['bbc-ejj', 'ejj-ech', 'ech-eci', 'eci-ecj', 'ecj-eda', 'eda-edb']}, {'total_streets': 4, 'street_names': ['ejd-eje', 'eje-ejf', 'ejf-ejg', 'ejg-ejj']}, {'total_streets': 8, 'street_names': ['eeh-eei', 'eei-ejj', 'ejj-bgj', 'bgj-bha', 'bha-bhb', 'bhb-bhc', 'bhc-bhd', 'bhd-bhe']}, {'total_streets': 9, 'street_names': ['fi-fj', 'fj-ga', 'ga-gb', 'gb-gc', 'gc-ejj', 'ejj-bbb', 'bbb-bbc', 'bbc-bbd', 'bbd-bbe']}, {'total_streets': 6, 'street_names': ['bi-bj', 'bj-ca', 'ca-ejj', 'ejj-cdj', 'cdj-cea', 'cea-ceb']}, {'total_streets': 6, 'street_names': ['eag-eah', 'eah-eai', 'eai-eaj', 'eaj-eba', 'eba-ebb', 'ebb-ebc']}, {'total_streets': 9, 'street_names': ['eai-eaj', 'eaj-eba', 'eba-ebb', 'ebb-ebc', 'ebc-ebd', 'ebd-ebe', 'ebe-ejj', 'ejj-bgf', 'bgf-bgg']}, {'total_streets': 6, 'street_names': ['ecd-ece', 'ece-ecf', 'ecf-ecg', 'ecg-ech', 'ech-eci', 'eci-ecj']}, {'total_streets': 3, 'street_names': ['dcg-dch', 'dch-dci', 'dci-dcj']}, {'total_streets': 4, 'street_names': ['bii-ejj', 'ejj-efd', 'efd-efe', 'efe-eff']}, {'total_streets': 8, 'street_names': ['ejj-cff', 'cff-cfg', 'cfg-cfh', 'cfh-cfi', 'cfi-cfj', 'cfj-cga', 'cga-cgb', 'cgb-cgc']}, {'total_streets': 4, 'street_names': ['eee-eef', 'eef-eeg', 'eeg-ejj', 'ejj-bcd']}, {'total_streets': 10, 'street_names': ['dgj-dha', 'dha-dhb', 'dhb-dhc', 'dhc-ejj', 'ejj-dah', 'dah-dai', 'dai-daj', 'daj-dba', 'dba-dbb', 'dbb-dbc']}, {'total_streets': 8, 'street_names': ['bba-ejj', 'ejj-dhf', 'dhf-dhg', 'dhg-dhh', 'dhh-dhi', 'dhi-dhj', 'dhj-dia', 'dia-dib']}, {'total_streets': 5, 'street_names': ['eha-ejj', 'ejj-cj', 'cj-da', 'da-db', 'db-dc']}, {'total_streets': 8, 'street_names': ['ec-ed', 'ed-ee', 'ee-ef', 'ef-eg', 'eg-ejj', 'ejj-dfh', 'dfh-dfi', 'dfi-dfj']}, {'total_streets': 4, 'street_names': ['bgi-ejj', 'ejj-efb', 'efb-efc', 'efc-efd']}, {'total_streets': 3, 'street_names': ['ejj-cf', 'cf-cg', 'cg-ch']}, {'total_streets': 3, 'street_names': ['a-ejj', 'ejj-ded', 'ded-dee']}, {'total_streets': 2, 'street_names': ['cjc-ejj', 'ejj-ecj']}, {'total_streets': 6, 'street_names': ['eaj-eba', 'eba-ejj', 'ejj-bcd', 'bcd-bce', 'bce-bcf', 'bcf-bcg']}, {'total_streets': 10, 'street_names': ['ehf-ehg', 'ehg-ehh', 'ehh-ehi', 'ehi-ejj', 'ejj-bcd', 'bcd-bce', 'bce-bcf', 'bcf-bcg', 'bcg-bch', 'bch-bci']}, {'total_streets': 7, 'street_names': ['eha-ehb', 'ehb-ehc', 'ehc-ejj', 'ejj-bj', 'bj-ca', 'ca-cb', 'cb-cc']}, {'total_streets': 8, 'street_names': ['dac-ejj', 'ejj-bhh', 'bhh-bhi', 'bhi-bhj', 'bhj-bia', 'bia-bib', 'bib-bic', 'bic-bid']}, {'total_streets': 3, 'street_names': ['bab-bac', 'bac-bad', 'bad-bae']}, {'total_streets': 4, 'street_names': ['dgc-dgd', 'dgd-dge', 'dge-ejj', 'ejj-eab']}, {'total_streets': 6, 'street_names': ['ddi-ejj', 'ejj-gj', 'gj-ha', 'ha-hb', 'hb-hc', 'hc-hd']}, {'total_streets': 3, 'street_names': ['ejj-fh', 'fh-fi', 'fi-fj']}, {'total_streets': 3, 'street_names': ['dec-ejj', 'ejj-hh', 'hh-hi']}, {'total_streets': 8, 'street_names': ['gh-gi', 'gi-gj', 'gj-ha', 'ha-hb', 'hb-hc', 'hc-ejj', 'ejj-if', 'if-ig']}, {'total_streets': 2, 'street_names': ['ce-ejj', 'ejj-dch']}, {'total_streets': 5, 'street_names': ['cei-ejj', 'ejj-hf', 'hf-hg', 'hg-hh', 'hh-hi']}, {'total_streets': 8, 'street_names': ['dac-dad', 'dad-dae', 'dae-daf', 'daf-dag', 'dag-dah', 'dah-dai', 'dai-ejj', 'ejj-dcb']}, {'total_streets': 8, 'street_names': ['dai-daj', 'daj-dba', 'dba-ejj', 'ejj-b', 'b-c', 'c-d', 'd-e', 'e-f']}, {'total_streets': 2, 'street_names': ['che-chf', 'chf-chg']}, {'total_streets': 4, 'street_names': ['ei-ej', 'ej-fa', 'fa-ejj', 'ejj-bcf']}, {'total_streets': 4, 'street_names': ['ca-ejj', 'ejj-ebf', 'ebf-ebg', 'ebg-ebh']}, {'total_streets': 10, 'street_names': ['ejj-bff', 'bff-bfg', 'bfg-bfh', 'bfh-bfi', 'bfi-bfj', 'bfj-bga', 'bga-bgb', 'bgb-bgc', 'bgc-bgd', 'bgd-bge']}, {'total_streets': 10, 'street_names': ['bda-ejj', 'ejj-ead', 'ead-eae', 'eae-eaf', 'eaf-eag', 'eag-eah', 'eah-eai', 'eai-eaj', 'eaj-eba', 'eba-ebb']}, {'total_streets': 8, 'street_names': ['hc-ejj', 'ejj-eeb', 'eeb-eec', 'eec-eed', 'eed-eee', 'eee-eef', 'eef-eeg', 'eeg-eeh']}, {'total_streets': 2, 'street_names': ['ejj-cdj', 'cdj-cea']}, {'total_streets': 7, 'street_names': ['bhd-bhe', 'bhe-ejj', 'ejj-chb', 'chb-chc', 'chc-chd', 'chd-che', 'che-chf']}, {'total_streets': 10, 'street_names': ['cgc-cgd', 'cgd-cge', 'cge-cgf', 'cgf-cgg', 'cgg-cgh', 'cgh-cgi', 'cgi-ejj', 'ejj-cad', 'cad-cae', 'cae-caf']}, {'total_streets': 6, 'street_names': ['ejj-bcd', 'bcd-bce', 'bce-bcf', 'bcf-bcg', 'bcg-bch', 'bch-bci']}, {'total_streets': 4, 'street_names': ['bij-bja', 'bja-bjb', 'bjb-bjc', 'bjc-bjd']}, {'total_streets': 4, 'street_names': ['ejj-ehf', 'ehf-ehg', 'ehg-ehh', 'ehh-ehi']}, {'total_streets': 5, 'street_names': ['cdg-cdh', 'cdh-cdi', 'cdi-cdj', 'cdj-cea', 'cea-ceb']}, {'total_streets': 7, 'street_names': ['ceg-ejj', 'ejj-bdb', 'bdb-bdc', 'bdc-bdd', 'bdd-bde', 'bde-bdf', 'bdf-bdg']}, {'total_streets': 6, 'street_names': ['ji-ejj', 'ejj-dhf', 'dhf-dhg', 'dhg-dhh', 'dhh-dhi', 'dhi-dhj']}, {'total_streets': 6, 'street_names': ['ejj-ib', 'ib-ic', 'ic-id', 'id-ie', 'ie-if', 'if-ig']}, {'total_streets': 2, 'street_names': ['ejj-djb', 'djb-djc']}, {'total_streets': 7, 'street_names': ['bfa-bfb', 'bfb-bfc', 'bfc-bfd', 'bfd-bfe', 'bfe-ejj', 'ejj-ejh', 'ejh-eji']}, {'total_streets': 8, 'street_names': ['dcj-dda', 'dda-ddb', 'ddb-ddc', 'ddc-ejj', 'ejj-bif', 'bif-big', 'big-bih', 'bih-bii']}, {'total_streets': 3, 'street_names': ['ge-gf', 'gf-gg', 'gg-gh']}, {'total_streets': 8, 'street_names': ['dai-ejj', 'ejj-bfd', 'bfd-bfe', 'bfe-bff', 'bff-bfg', 'bfg-bfh', 'bfh-bfi', 'bfi-bfj']}, {'total_streets': 8, 'street_names': ['hc-ejj', 'ejj-daf', 'daf-dag', 'dag-dah', 'dah-dai', 'dai-daj', 'daj-dba', 'dba-dbb']}, {'total_streets': 3, 'street_names': ['ebi-ebj', 'ebj-eca', 'eca-ejj']}, {'total_streets': 8, 'street_names': ['dda-ddb', 'ddb-ddc', 'ddc-ddd', 'ddd-dde', 'dde-ddf', 'ddf-ddg', 'ddg-ejj', 'ejj-bed']}, {'total_streets': 10, 'street_names': ['dgi-dgj', 'dgj-dha', 'dha-ejj', 'ejj-ebf', 'ebf-ebg', 'ebg-ebh', 'ebh-ebi', 'ebi-ebj', 'ebj-eca', 'eca-ecb']}, {'total_streets': 10, 'street_names': ['cec-ced', 'ced-cee', 'cee-ejj', 'ejj-cef', 'cef-ceg', 'ceg-ceh', 'ceh-cei', 'cei-cej', 'cej-cfa', 'cfa-cfb']}, {'total_streets': 3, 'street_names': ['cac-cad', 'cad-cae', 'cae-ejj']}, {'total_streets': 8, 'street_names': ['bed-bee', 'bee-bef', 'bef-beg', 'beg-ejj', 'ejj-eef', 'eef-eeg', 'eeg-eeh', 'eeh-eei']}, {'total_streets': 10, 'street_names': ['bjg-bjh', 'bjh-bji', 'bji-bjj', 'bjj-caa', 'caa-cab', 'cab-cac', 'cac-cad', 'cad-cae', 'cae-caf', 'caf-cag']}, {'total_streets': 7, 'street_names': ['eac-ejj', 'ejj-cj', 'cj-da', 'da-db', 'db-dc', 'dc-dd', 'dd-de']}, {'total_streets': 9, 'street_names': ['ec-ed', 'ed-ee', 'ee-ejj', 'ejj-ecd', 'ecd-ece', 'ece-ecf', 'ecf-ecg', 'ecg-ech', 'ech-eci']}, {'total_streets': 3, 'street_names': ['ceg-ejj', 'ejj-ded', 'ded-dee']}, {'total_streets': 10, 'street_names': ['ejj-ebb', 'ebb-ebc', 'ebc-ebd', 'ebd-ebe', 'ebe-ebf', 'ebf-ebg', 'ebg-ebh', 'ebh-ebi', 'ebi-ebj', 'ebj-eca']}, {'total_streets': 7, 'street_names': ['dbi-dbj', 'dbj-dca', 'dca-ejj', 'ejj-dih', 'dih-dii', 'dii-dij', 'dij-dja']}, {'total_streets': 10, 'street_names': ['ejj-dch', 'dch-dci', 'dci-dcj', 'dcj-dda', 'dda-ddb', 'ddb-ddc', 'ddc-ddd', 'ddd-dde', 'dde-ddf', 'ddf-ddg']}, {'total_streets': 7, 'street_names': ['bge-bgf', 'bgf-bgg', 'bgg-bgh', 'bgh-bgi', 'bgi-bgj', 'bgj-bha', 'bha-ejj']}, {'total_streets': 2, 'street_names': ['dbj-dca', 'dca-dcb']}, {'total_streets': 6, 'street_names': ['dag-ejj', 'ejj-ceh', 'ceh-cei', 'cei-cej', 'cej-cfa', 'cfa-cfb']}, {'total_streets': 4, 'street_names': ['ejj-ejh', 'ejh-eji', 'eji-a', 'a-b']}, {'total_streets': 6, 'street_names': ['je-jf', 'jf-jg', 'jg-ejj', 'ejj-bcj', 'bcj-bda', 'bda-bdb']}, {'total_streets': 7, 'street_names': ['fg-ejj', 'ejj-eeh', 'eeh-eei', 'eei-eej', 'eej-efa', 'efa-efb', 'efb-efc']}, {'total_streets': 10, 'street_names': ['dhf-dhg', 'dhg-ejj', 'ejj-bib', 'bib-bic', 'bic-bid', 'bid-bie', 'bie-bif', 'bif-big', 'big-bih', 'bih-bii']}, {'total_streets': 3, 'street_names': ['dba-ejj', 'ejj-dfj', 'dfj-dga']}, {'total_streets': 9, 'street_names': ['bch-bci', 'bci-bcj', 'bcj-bda', 'bda-bdb', 'bdb-bdc', 'bdc-bdd', 'bdd-bde', 'bde-bdf', 'bdf-bdg']}, {'total_streets': 9, 'street_names': ['dea-deb', 'deb-dec', 'dec-ded', 'ded-dee', 'dee-def', 'def-deg', 'deg-deh', 'deh-dei', 'dei-ejj']}, {'total_streets': 2, 'street_names': ['cig-cih', 'cih-cii']}, {'total_streets': 3, 'street_names': ['ejj-deh', 'deh-dei', 'dei-dej']}, {'total_streets': 2, 'street_names': ['ced-cee', 'cee-cef']}, {'total_streets': 10, 'street_names': ['bfh-bfi', 'bfi-ejj', 'ejj-bcb', 'bcb-bcc', 'bcc-bcd', 'bcd-bce', 'bce-bcf', 'bcf-bcg', 'bcg-bch', 'bch-bci']}, {'total_streets': 5, 'street_names': ['ejj-dhj', 'dhj-dia', 'dia-dib', 'dib-dic', 'dic-did']}, {'total_streets': 2, 'street_names': ['ejj-ejd', 'ejd-eje']}, {'total_streets': 7, 'street_names': ['bfe-bff', 'bff-bfg', 'bfg-ejj', 'ejj-bif', 'bif-big', 'big-bih', 'bih-bii']}, {'total_streets': 3, 'street_names': ['cja-ejj', 'ejj-dgd', 'dgd-dge']}, {'total_streets': 2, 'street_names': ['cjc-ejj', 'ejj-edd']}, {'total_streets': 8, 'street_names': ['ij-ja', 'ja-ejj', 'ejj-ccb', 'ccb-ccc', 'ccc-ccd', 'ccd-cce', 'cce-ccf', 'ccf-ccg']}, {'total_streets': 3, 'street_names': ['bhc-ejj', 'ejj-dad', 'dad-dae']}, {'total_streets': 7, 'street_names': ['baj-bba', 'bba-ejj', 'ejj-djh', 'djh-dji', 'dji-djj', 'djj-eaa', 'eaa-eab']}, {'total_streets': 2, 'street_names': ['ehj-eia', 'eia-ejj']}, {'total_streets': 6, 'street_names': ['ejj-bfh', 'bfh-bfi', 'bfi-bfj', 'bfj-bga', 'bga-bgb', 'bgb-bgc']}, {'total_streets': 10, 'street_names': ['dg-dh', 'dh-di', 'di-ejj', 'ejj-dhb', 'dhb-dhc', 'dhc-dhd', 'dhd-dhe', 'dhe-dhf', 'dhf-dhg', 'dhg-dhh']}, {'total_streets': 7, 'street_names': ['ejj-dh', 'dh-di', 'di-dj', 'dj-ea', 'ea-eb', 'eb-ec', 'ec-ed']}, {'total_streets': 4, 'street_names': ['eic-eid', 'eid-eie', 'eie-ejj', 'ejj-daj']}, {'total_streets': 2, 'street_names': ['h-i', 'i-j']}, {'total_streets': 4, 'street_names': ['ejj-if', 'if-ig', 'ig-ih', 'ih-ii']}, {'total_streets': 6, 'street_names': ['ec-ejj', 'ejj-dgb', 'dgb-dgc', 'dgc-dgd', 'dgd-dge', 'dge-dgf']}, {'total_streets': 3, 'street_names': ['ejj-bej', 'bej-bfa', 'bfa-bfb']}, {'total_streets': 5, 'street_names': ['cg-ch', 'ch-ci', 'ci-ejj', 'ejj-bd', 'bd-be']}, {'total_streets': 9, 'street_names': ['ejj-gb', 'gb-gc', 'gc-gd', 'gd-ge', 'ge-gf', 'gf-gg', 'gg-gh', 'gh-gi', 'gi-gj']}, {'total_streets': 9, 'street_names': ['cig-cih', 'cih-cii', 'cii-ejj', 'ejj-chd', 'chd-che', 'che-chf', 'chf-chg', 'chg-chh', 'chh-chi']}, {'total_streets': 9, 'street_names': ['gf-gg', 'gg-gh', 'gh-gi', 'gi-gj', 'gj-ha', 'ha-hb', 'hb-hc', 'hc-ejj', 'ejj-cf']}, {'total_streets': 5, 'street_names': ['ejj-edb', 'edb-edc', 'edc-edd', 'edd-ede', 'ede-edf']}, {'total_streets': 8, 'street_names': ['eag-eah', 'eah-eai', 'eai-eaj', 'eaj-eba', 'eba-ejj', 'ejj-ceb', 'ceb-cec', 'cec-ced']}, {'total_streets': 2, 'street_names': ['bic-ejj', 'ejj-ddf']}, {'total_streets': 7, 'street_names': ['ebb-ebc', 'ebc-ejj', 'ejj-dih', 'dih-dii', 'dii-dij', 'dij-dja', 'dja-djb']}, {'total_streets': 2, 'street_names': ['eab-eac', 'eac-ead']}, {'total_streets': 7, 'street_names': ['ejj-deb', 'deb-dec', 'dec-ded', 'ded-dee', 'dee-def', 'def-deg', 'deg-deh']}, {'total_streets': 4, 'street_names': ['ejj-edh', 'edh-edi', 'edi-edj', 'edj-eea']}, {'total_streets': 5, 'street_names': ['gc-gd', 'gd-ge', 'ge-ejj', 'ejj-ebh', 'ebh-ebi']}, {'total_streets': 2, 'street_names': ['ci-cj', 'cj-da']}, {'total_streets': 2, 'street_names': ['cab-cac', 'cac-ejj']}, {'total_streets': 6, 'street_names': ['fe-ff', 'ff-fg', 'fg-fh', 'fh-fi', 'fi-fj', 'fj-ga']}, {'total_streets': 9, 'street_names': ['j-ba', 'ba-bb', 'bb-bc', 'bc-ejj', 'ejj-bah', 'bah-bai', 'bai-baj', 'baj-bba', 'bba-bbb']}, {'total_streets': 10, 'street_names': ['chb-chc', 'chc-ejj', 'ejj-dgd', 'dgd-dge', 'dge-dgf', 'dgf-dgg', 'dgg-dgh', 'dgh-dgi', 'dgi-dgj', 'dgj-dha']}, {'total_streets': 3, 'street_names': ['cdf-cdg', 'cdg-ejj', 'ejj-bfd']}, {'total_streets': 3, 'street_names': ['dja-ejj', 'ejj-cb', 'cb-cc']}, {'total_streets': 9, 'street_names': ['dfg-ejj', 'ejj-eij', 'eij-eja', 'eja-ejb', 'ejb-ejc', 'ejc-ejd', 'ejd-eje', 'eje-ejf', 'ejf-ejg']}, {'total_streets': 6, 'street_names': ['eij-eja', 'eja-ejj', 'ejj-edb', 'edb-edc', 'edc-edd', 'edd-ede']}, {'total_streets': 3, 'street_names': ['ef-eg', 'eg-ejj', 'ejj-caj']}, {'total_streets': 10, 'street_names': ['dba-ejj', 'ejj-eid', 'eid-eie', 'eie-eif', 'eif-eig', 'eig-eih', 'eih-eii', 'eii-eij', 'eij-eja', 'eja-ejb']}, {'total_streets': 6, 'street_names': ['bbb-bbc', 'bbc-ejj', 'ejj-bjd', 'bjd-bje', 'bje-bjf', 'bjf-bjg']}, {'total_streets': 9, 'street_names': ['gj-ha', 'ha-hb', 'hb-hc', 'hc-hd', 'hd-he', 'he-hf', 'hf-hg', 'hg-ejj', 'ejj-bfd']}, {'total_streets': 2, 'street_names': ['ejj-gb', 'gb-gc']}, {'total_streets': 6, 'street_names': ['bif-big', 'big-bih', 'bih-bii', 'bii-bij', 'bij-bja', 'bja-ejj']}, {'total_streets': 2, 'street_names': ['cjb-cjc', 'cjc-cjd']}, {'total_streets': 4, 'street_names': ['cja-ejj', 'ejj-ehb', 'ehb-ehc', 'ehc-ehd']}, {'total_streets': 7, 'street_names': ['ccg-cch', 'cch-cci', 'cci-ejj', 'ejj-eab', 'eab-eac', 'eac-ead', 'ead-eae']}, {'total_streets': 9, 'street_names': ['ejj-bid', 'bid-bie', 'bie-bif', 'bif-big', 'big-bih', 'bih-bii', 'bii-bij', 'bij-bja', 'bja-bjb']}, {'total_streets': 3, 'street_names': ['dhi-ejj', 'ejj-jh', 'jh-ji']}, {'total_streets': 3, 'street_names': ['ejj-ccf', 'ccf-ccg', 'ccg-cch']}, {'total_streets': 3, 'street_names': ['edc-ejj', 'ejj-ddj', 'ddj-dea']}, {'total_streets': 4, 'street_names': ['dfe-dff', 'dff-dfg', 'dfg-dfh', 'dfh-dfi']}, {'total_streets': 6, 'street_names': ['ejg-ejj', 'ejj-ccb', 'ccb-ccc', 'ccc-ccd', 'ccd-cce', 'cce-ccf']}, {'total_streets': 4, 'street_names': ['dii-dij', 'dij-dja', 'dja-djb', 'djb-djc']}, {'total_streets': 6, 'street_names': ['da-db', 'db-dc', 'dc-ejj', 'ejj-bef', 'bef-beg', 'beg-beh']}, {'total_streets': 8, 'street_names': ['bic-ejj', 'ejj-bfh', 'bfh-bfi', 'bfi-bfj', 'bfj-bga', 'bga-bgb', 'bgb-bgc', 'bgc-bgd']}, {'total_streets': 2, 'street_names': ['bag-ejj', 'ejj-egb']}, {'total_streets': 9, 'street_names': ['dhg-dhh', 'dhh-dhi', 'dhi-dhj', 'dhj-dia', 'dia-ejj', 'ejj-bdj', 'bdj-bea', 'bea-beb', 'beb-bec']}, {'total_streets': 7, 'street_names': ['ejj-dej', 'dej-dfa', 'dfa-dfb', 'dfb-dfc', 'dfc-dfd', 'dfd-dfe', 'dfe-dff']}, {'total_streets': 4, 'street_names': ['g-h', 'h-i', 'i-j', 'j-ba']}, {'total_streets': 3, 'street_names': ['dcb-dcc', 'dcc-dcd', 'dcd-dce']}, {'total_streets': 3, 'street_names': ['ecb-ecc', 'ecc-ecd', 'ecd-ece']}, {'total_streets': 3, 'street_names': ['ejj-ch', 'ch-ci', 'ci-cj']}, {'total_streets': 4, 'street_names': ['dfa-dfb', 'dfb-dfc', 'dfc-dfd', 'dfd-dfe']}, {'total_streets': 10, 'street_names': ['e-ejj', 'ejj-ed', 'ed-ee', 'ee-ef', 'ef-eg', 'eg-eh', 'eh-ei', 'ei-ej', 'ej-fa', 'fa-fb']}, {'total_streets': 8, 'street_names': ['fd-fe', 'fe-ejj', 'ejj-dhd', 'dhd-dhe', 'dhe-dhf', 'dhf-dhg', 'dhg-dhh', 'dhh-dhi']}, {'total_streets': 8, 'street_names': ['ejj-h', 'h-i', 'i-j', 'j-ba', 'ba-bb', 'bb-bc', 'bc-bd', 'bd-be']}, {'total_streets': 4, 'street_names': ['ejj-ebf', 'ebf-ebg', 'ebg-ebh', 'ebh-ebi']}, {'total_streets': 8, 'street_names': ['bha-ejj', 'ejj-bad', 'bad-bae', 'bae-baf', 'baf-bag', 'bag-bah', 'bah-bai', 'bai-baj']}, {'total_streets': 5, 'street_names': ['ecf-ecg', 'ecg-ejj', 'ejj-caj', 'caj-cba', 'cba-cbb']}, {'total_streets': 4, 'street_names': ['edi-ejj', 'ejj-eib', 'eib-eic', 'eic-eid']}, {'total_streets': 7, 'street_names': ['ddc-ddd', 'ddd-dde', 'dde-ddf', 'ddf-ddg', 'ddg-ddh', 'ddh-ddi', 'ddi-ejj']}, {'total_streets': 5, 'street_names': ['ejj-dfj', 'dfj-dga', 'dga-dgb', 'dgb-dgc', 'dgc-dgd']}, {'total_streets': 4, 'street_names': ['cge-ejj', 'ejj-hh', 'hh-hi', 'hi-hj']}, {'total_streets': 2, 'street_names': ['cea-ejj', 'ejj-cid']}, {'total_streets': 4, 'street_names': ['cgj-cha', 'cha-chb', 'chb-chc', 'chc-chd']}, {'total_streets': 6, 'street_names': ['ejj-ejf', 'ejf-ejg', 'ejg-ejh', 'ejh-eji', 'eji-a', 'a-b']}, {'total_streets': 10, 'street_names': ['db-dc', 'dc-dd', 'dd-de', 'de-df', 'df-dg', 'dg-ejj', 'ejj-eid', 'eid-eie', 'eie-eif', 'eif-eig']}, {'total_streets': 2, 'street_names': ['ejj-bbd', 'bbd-bbe']}, {'total_streets': 8, 'street_names': ['dif-dig', 'dig-ejj', 'ejj-bd', 'bd-be', 'be-bf', 'bf-bg', 'bg-bh', 'bh-bi']}, {'total_streets': 5, 'street_names': ['dgg-dgh', 'dgh-dgi', 'dgi-dgj', 'dgj-dha', 'dha-dhb']}, {'total_streets': 3, 'street_names': ['ejj-caj', 'caj-cba', 'cba-cbb']}, {'total_streets': 9, 'street_names': ['bac-ejj', 'ejj-bgh', 'bgh-bgi', 'bgi-bgj', 'bgj-bha', 'bha-bhb', 'bhb-bhc', 'bhc-bhd', 'bhd-bhe']}, {'total_streets': 6, 'street_names': ['cjg-cjh', 'cjh-cji', 'cji-ejj', 'ejj-cjd', 'cjd-cje', 'cje-cjf']}, {'total_streets': 8, 'street_names': ['cib-cic', 'cic-cid', 'cid-cie', 'cie-ejj', 'ejj-dhf', 'dhf-dhg', 'dhg-dhh', 'dhh-dhi']}, {'total_streets': 8, 'street_names': ['eii-ejj', 'ejj-hb', 'hb-hc', 'hc-hd', 'hd-he', 'he-hf', 'hf-hg', 'hg-hh']}, {'total_streets': 6, 'street_names': ['ci-ejj', 'ejj-cbf', 'cbf-cbg', 'cbg-cbh', 'cbh-cbi', 'cbi-cbj']}, {'total_streets': 10, 'street_names': ['ejj-edj', 'edj-eea', 'eea-eeb', 'eeb-eec', 'eec-eed', 'eed-eee', 'eee-eef', 'eef-eeg', 'eeg-eeh', 'eeh-eei']}, {'total_streets': 6, 'street_names': ['ejj-eaj', 'eaj-eba', 'eba-ebb', 'ebb-ebc', 'ebc-ebd', 'ebd-ebe']}, {'total_streets': 4, 'street_names': ['eea-ejj', 'ejj-edh', 'edh-edi', 'edi-edj']}, {'total_streets': 2, 'street_names': ['ejj-egh', 'egh-egi']}, {'total_streets': 6, 'street_names': ['ii-ij', 'ij-ja', 'ja-jb', 'jb-jc', 'jc-jd', 'jd-je']}, {'total_streets': 10, 'street_names': ['cjd-cje', 'cje-ejj', 'ejj-chh', 'chh-chi', 'chi-chj', 'chj-cia', 'cia-cib', 'cib-cic', 'cic-cid', 'cid-cie']}, {'total_streets': 8, 'street_names': ['ejj-djh', 'djh-dji', 'dji-djj', 'djj-eaa', 'eaa-eab', 'eab-eac', 'eac-ead', 'ead-eae']}, {'total_streets': 3, 'street_names': ['ejj-ejh', 'ejh-eji', 'eji-a']}, {'total_streets': 3, 'street_names': ['ejj-bch', 'bch-bci', 'bci-bcj']}, {'total_streets': 8, 'street_names': ['cig-cih', 'cih-cii', 'cii-ejj', 'ejj-dbj', 'dbj-dca', 'dca-dcb', 'dcb-dcc', 'dcc-dcd']}, {'total_streets': 3, 'street_names': ['djd-dje', 'dje-djf', 'djf-djg']}, {'total_streets': 6, 'street_names': ['ejj-cdj', 'cdj-cea', 'cea-ceb', 'ceb-cec', 'cec-ced', 'ced-cee']}, {'total_streets': 4, 'street_names': ['a-b', 'b-c', 'c-d', 'd-e']}, {'total_streets': 10, 'street_names': ['ebd-ebe', 'ebe-ebf', 'ebf-ebg', 'ebg-ejj', 'ejj-cbh', 'cbh-cbi', 'cbi-cbj', 'cbj-cca', 'cca-ccb', 'ccb-ccc']}, {'total_streets': 7, 'street_names': ['ejj-bhh', 'bhh-bhi', 'bhi-bhj', 'bhj-bia', 'bia-bib', 'bib-bic', 'bic-bid']}, {'total_streets': 9, 'street_names': ['efc-ejj', 'ejj-ecb', 'ecb-ecc', 'ecc-ecd', 'ecd-ece', 'ece-ecf', 'ecf-ecg', 'ecg-ech', 'ech-eci']}, {'total_streets': 9, 'street_names': ['cdg-ejj', 'ejj-bj', 'bj-ca', 'ca-cb', 'cb-cc', 'cc-cd', 'cd-ce', 'ce-cf', 'cf-cg']}, {'total_streets': 5, 'street_names': ['bie-ejj', 'ejj-dd', 'dd-de', 'de-df', 'df-dg']}, {'total_streets': 5, 'street_names': ['bfa-ejj', 'ejj-bd', 'bd-be', 'be-bf', 'bf-bg']}, {'total_streets': 10, 'street_names': ['jg-jh', 'jh-ji', 'ji-jj', 'jj-baa', 'baa-bab', 'bab-bac', 'bac-bad', 'bad-bae', 'bae-ejj', 'ejj-dab']}, {'total_streets': 6, 'street_names': ['ccg-ejj', 'ejj-ef', 'ef-eg', 'eg-eh', 'eh-ei', 'ei-ej']}, {'total_streets': 4, 'street_names': ['dhi-ejj', 'ejj-efh', 'efh-efi', 'efi-efj']}, {'total_streets': 4, 'street_names': ['eia-ejj', 'ejj-cf', 'cf-cg', 'cg-ch']}, {'total_streets': 6, 'street_names': ['gf-gg', 'gg-ejj', 'ejj-did', 'did-die', 'die-dif', 'dif-dig']}, {'total_streets': 4, 'street_names': ['ejj-cf', 'cf-cg', 'cg-ch', 'ch-ci']}, {'total_streets': 10, 'street_names': ['eac-ead', 'ead-eae', 'eae-ejj', 'ejj-bj', 'bj-ca', 'ca-cb', 'cb-cc', 'cc-cd', 'cd-ce', 'ce-cf']}, {'total_streets': 4, 'street_names': ['dhc-dhd', 'dhd-dhe', 'dhe-ejj', 'ejj-bbb']}, {'total_streets': 4, 'street_names': ['bae-ejj', 'ejj-ced', 'ced-cee', 'cee-cef']}, {'total_streets': 6, 'street_names': ['cdh-cdi', 'cdi-ejj', 'ejj-dbd', 'dbd-dbe', 'dbe-dbf', 'dbf-dbg']}, {'total_streets': 4, 'street_names': ['ejj-cdj', 'cdj-cea', 'cea-ceb', 'ceb-cec']}, {'total_streets': 2, 'street_names': ['bac-ejj', 'ejj-ddf']}, {'total_streets': 9, 'street_names': ['ebh-ebi', 'ebi-ejj', 'ejj-bbb', 'bbb-bbc', 'bbc-bbd', 'bbd-bbe', 'bbe-bbf', 'bbf-bbg', 'bbg-bbh']}, {'total_streets': 9, 'street_names': ['ge-ejj', 'ejj-eh', 'eh-ei', 'ei-ej', 'ej-fa', 'fa-fb', 'fb-fc', 'fc-fd', 'fd-fe']}, {'total_streets': 6, 'street_names': ['bec-ejj', 'ejj-fj', 'fj-ga', 'ga-gb', 'gb-gc', 'gc-gd']}, {'total_streets': 10, 'street_names': ['dii-ejj', 'ejj-daj', 'daj-dba', 'dba-dbb', 'dbb-dbc', 'dbc-dbd', 'dbd-dbe', 'dbe-dbf', 'dbf-dbg', 'dbg-dbh']}, {'total_streets': 2, 'street_names': ['bjd-bje', 'bje-ejj']}, {'total_streets': 6, 'street_names': ['bfc-bfd', 'bfd-bfe', 'bfe-ejj', 'ejj-chf', 'chf-chg', 'chg-chh']}, {'total_streets': 4, 'street_names': ['ejj-ehh', 'ehh-ehi', 'ehi-ehj', 'ehj-eia']}, {'total_streets': 8, 'street_names': ['dbh-dbi', 'dbi-dbj', 'dbj-dca', 'dca-ejj', 'ejj-gd', 'gd-ge', 'ge-gf', 'gf-gg']}, {'total_streets': 8, 'street_names': ['bhc-ejj', 'ejj-dfj', 'dfj-dga', 'dga-dgb', 'dgb-dgc', 'dgc-dgd', 'dgd-dge', 'dge-dgf']}, {'total_streets': 5, 'street_names': ['ejf-ejg', 'ejg-ejj', 'ejj-egh', 'egh-egi', 'egi-egj']}, {'total_streets': 9, 'street_names': ['dee-ejj', 'ejj-dbd', 'dbd-dbe', 'dbe-dbf', 'dbf-dbg', 'dbg-dbh', 'dbh-dbi', 'dbi-dbj', 'dbj-dca']}, {'total_streets': 2, 'street_names': ['be-bf', 'bf-bg']}, {'total_streets': 8, 'street_names': ['dh-di', 'di-ejj', 'ejj-bhb', 'bhb-bhc', 'bhc-bhd', 'bhd-bhe', 'bhe-bhf', 'bhf-bhg']}, {'total_streets': 8, 'street_names': ['bjb-bjc', 'bjc-ejj', 'ejj-fb', 'fb-fc', 'fc-fd', 'fd-fe', 'fe-ff', 'ff-fg']}, {'total_streets': 4, 'street_names': ['ea-eb', 'eb-ec', 'ec-ejj', 'ejj-dgj']}, {'total_streets': 2, 'street_names': ['cjg-ejj', 'ejj-fb']}, {'total_streets': 9, 'street_names': ['bj-ca', 'ca-cb', 'cb-cc', 'cc-ejj', 'ejj-cgd', 'cgd-cge', 'cge-cgf', 'cgf-cgg', 'cgg-cgh']}, {'total_streets': 2, 'street_names': ['egi-ejj', 'ejj-dd']}, {'total_streets': 9, 'street_names': ['edc-edd', 'edd-ede', 'ede-ejj', 'ejj-bb', 'bb-bc', 'bc-bd', 'bd-be', 'be-bf', 'bf-bg']}, {'total_streets': 10, 'street_names': ['ejj-dij', 'dij-dja', 'dja-djb', 'djb-djc', 'djc-djd', 'djd-dje', 'dje-djf', 'djf-djg', 'djg-djh', 'djh-dji']}, {'total_streets': 2, 'street_names': ['hj-ia', 'ia-ejj']}, {'total_streets': 6, 'street_names': ['ejj-bgf', 'bgf-bgg', 'bgg-bgh', 'bgh-bgi', 'bgi-bgj', 'bgj-bha']}, {'total_streets': 9, 'street_names': ['ejj-dd', 'dd-de', 'de-df', 'df-dg', 'dg-dh', 'dh-di', 'di-dj', 'dj-ea', 'ea-eb']}, {'total_streets': 10, 'street_names': ['ejj-ejd', 'ejd-eje', 'eje-ejf', 'ejf-ejg', 'ejg-ejh', 'ejh-eji', 'eji-a', 'a-b', 'b-c', 'c-d']}, {'total_streets': 6, 'street_names': ['bae-baf', 'baf-bag', 'bag-bah', 'bah-bai', 'bai-ejj', 'ejj-ef']}, {'total_streets': 8, 'street_names': ['eie-eif', 'eif-eig', 'eig-eih', 'eih-eii', 'eii-eij', 'eij-eja', 'eja-ejj', 'ejj-cjj']}, {'total_streets': 8, 'street_names': ['eji-ejj', 'ejj-dgf', 'dgf-dgg', 'dgg-dgh', 'dgh-dgi', 'dgi-dgj', 'dgj-dha', 'dha-dhb']}, {'total_streets': 8, 'street_names': ['ejj-cgd', 'cgd-cge', 'cge-cgf', 'cgf-cgg', 'cgg-cgh', 'cgh-cgi', 'cgi-cgj', 'cgj-cha']}, {'total_streets': 8, 'street_names': ['cbc-ejj', 'ejj-egh', 'egh-egi', 'egi-egj', 'egj-eha', 'eha-ehb', 'ehb-ehc', 'ehc-ehd']}, {'total_streets': 6, 'street_names': ['bih-bii', 'bii-ejj', 'ejj-ebh', 'ebh-ebi', 'ebi-ebj', 'ebj-eca']}, {'total_streets': 9, 'street_names': ['cjg-ejj', 'ejj-ded', 'ded-dee', 'dee-def', 'def-deg', 'deg-deh', 'deh-dei', 'dei-dej', 'dej-dfa']}, {'total_streets': 4, 'street_names': ['bc-ejj', 'ejj-egh', 'egh-egi', 'egi-egj']}, {'total_streets': 7, 'street_names': ['bi-ejj', 'ejj-dcj', 'dcj-dda', 'dda-ddb', 'ddb-ddc', 'ddc-ddd', 'ddd-dde']}, {'total_streets': 2, 'street_names': ['cib-cic', 'cic-cid']}, {'total_streets': 9, 'street_names': ['eih-eii', 'eii-eij', 'eij-eja', 'eja-ejb', 'ejb-ejc', 'ejc-ejd', 'ejd-eje', 'eje-ejj', 'ejj-hh']}, {'total_streets': 6, 'street_names': ['ejj-dhd', 'dhd-dhe', 'dhe-dhf', 'dhf-dhg', 'dhg-dhh', 'dhh-dhi']}, {'total_streets': 10, 'street_names': ['ejj-db', 'db-dc', 'dc-dd', 'dd-de', 'de-df', 'df-dg', 'dg-dh', 'dh-di', 'di-dj', 'dj-ea']}, {'total_streets': 5, 'street_names': ['fj-ga', 'ga-ejj', 'ejj-cdh', 'cdh-cdi', 'cdi-cdj']}, {'total_streets': 3, 'street_names': ['bbc-ejj', 'ejj-dcj', 'dcj-dda']}, {'total_streets': 10, 'street_names': ['dej-dfa', 'dfa-dfb', 'dfb-dfc', 'dfc-ejj', 'ejj-ehb', 'ehb-ehc', 'ehc-ehd', 'ehd-ehe', 'ehe-ehf', 'ehf-ehg']}, {'total_streets': 10, 'street_names': ['ejj-bjh', 'bjh-bji', 'bji-bjj', 'bjj-caa', 'caa-cab', 'cab-cac', 'cac-cad', 'cad-cae', 'cae-caf', 'caf-cag']}, {'total_streets': 5, 'street_names': ['bhj-bia', 'bia-ejj', 'ejj-hb', 'hb-hc', 'hc-hd']}, {'total_streets': 9, 'street_names': ['bgg-ejj', 'ejj-dbh', 'dbh-dbi', 'dbi-dbj', 'dbj-dca', 'dca-dcb', 'dcb-dcc', 'dcc-dcd', 'dcd-dce']}, {'total_streets': 9, 'street_names': ['dai-ejj', 'ejj-bgd', 'bgd-bge', 'bge-bgf', 'bgf-bgg', 'bgg-bgh', 'bgh-bgi', 'bgi-bgj', 'bgj-bha']}, {'total_streets': 9, 'street_names': ['ejj-eh', 'eh-ei', 'ei-ej', 'ej-fa', 'fa-fb', 'fb-fc', 'fc-fd', 'fd-fe', 'fe-ff']}, {'total_streets': 9, 'street_names': ['ejj-ecj', 'ecj-eda', 'eda-edb', 'edb-edc', 'edc-edd', 'edd-ede', 'ede-edf', 'edf-edg', 'edg-edh']}, {'total_streets': 7, 'street_names': ['cia-cib', 'cib-cic', 'cic-cid', 'cid-cie', 'cie-cif', 'cif-cig', 'cig-cih']}, {'total_streets': 6, 'street_names': ['ejj-df', 'df-dg', 'dg-dh', 'dh-di', 'di-dj', 'dj-ea']}, {'total_streets': 10, 'street_names': ['beg-beh', 'beh-bei', 'bei-bej', 'bej-bfa', 'bfa-ejj', 'ejj-gh', 'gh-gi', 'gi-gj', 'gj-ha', 'ha-hb']}, {'total_streets': 2, 'street_names': ['bja-bjb', 'bjb-bjc']}, {'total_streets': 8, 'street_names': ['djf-djg', 'djg-ejj', 'ejj-ehf', 'ehf-ehg', 'ehg-ehh', 'ehh-ehi', 'ehi-ehj', 'ehj-eia']}, {'total_streets': 6, 'street_names': ['cd-ce', 'ce-ejj', 'ejj-dbb', 'dbb-dbc', 'dbc-dbd', 'dbd-dbe']}, {'total_streets': 5, 'street_names': ['ebb-ebc', 'ebc-ejj', 'ejj-def', 'def-deg', 'deg-deh']}, {'total_streets': 5, 'street_names': ['ejj-bif', 'bif-big', 'big-bih', 'bih-bii', 'bii-bij']}, {'total_streets': 9, 'street_names': ['bic-ejj', 'ejj-bgh', 'bgh-bgi', 'bgi-bgj', 'bgj-bha', 'bha-bhb', 'bhb-bhc', 'bhc-bhd', 'bhd-bhe']}, {'total_streets': 4, 'street_names': ['cgb-cgc', 'cgc-ejj', 'ejj-chj', 'chj-cia']}, {'total_streets': 4, 'street_names': ['bc-ejj', 'ejj-cfd', 'cfd-cfe', 'cfe-cff']}, {'total_streets': 2, 'street_names': ['ge-gf', 'gf-gg']}, {'total_streets': 3, 'street_names': ['dfg-dfh', 'dfh-dfi', 'dfi-ejj']}, {'total_streets': 5, 'street_names': ['cei-ejj', 'ejj-h', 'h-i', 'i-j', 'j-ba']}, {'total_streets': 8, 'street_names': ['chi-chj', 'chj-cia', 'cia-cib', 'cib-cic', 'cic-cid', 'cid-cie', 'cie-cif', 'cif-cig']}, {'total_streets': 7, 'street_names': ['ejj-djb', 'djb-djc', 'djc-djd', 'djd-dje', 'dje-djf', 'djf-djg', 'djg-djh']}, {'total_streets': 9, 'street_names': ['cdb-cdc', 'cdc-ejj', 'ejj-cbj', 'cbj-cca', 'cca-ccb', 'ccb-ccc', 'ccc-ccd', 'ccd-cce', 'cce-ccf']}, {'total_streets': 7, 'street_names': ['bff-bfg', 'bfg-ejj', 'ejj-bdj', 'bdj-bea', 'bea-beb', 'beb-bec', 'bec-bed']}, {'total_streets': 3, 'street_names': ['ejj-bhh', 'bhh-bhi', 'bhi-bhj']}, {'total_streets': 7, 'street_names': ['ege-ejj', 'ejj-chj', 'chj-cia', 'cia-cib', 'cib-cic', 'cic-cid', 'cid-cie']}, {'total_streets': 6, 'street_names': ['bdi-bdj', 'bdj-bea', 'bea-ejj', 'ejj-ecf', 'ecf-ecg', 'ecg-ech']}, {'total_streets': 5, 'street_names': ['dag-dah', 'dah-dai', 'dai-ejj', 'ejj-egh', 'egh-egi']}, {'total_streets': 3, 'street_names': ['ejj-cgf', 'cgf-cgg', 'cgg-cgh']}, {'total_streets': 2, 'street_names': ['ejj-bej', 'bej-bfa']}, {'total_streets': 2, 'street_names': ['fi-fj', 'fj-ga']}, {'total_streets': 8, 'street_names': ['ejc-ejj', 'ejj-h', 'h-i', 'i-j', 'j-ba', 'ba-bb', 'bb-bc', 'bc-bd']}, {'total_streets': 10, 'street_names': ['ejj-chf', 'chf-chg', 'chg-chh', 'chh-chi', 'chi-chj', 'chj-cia', 'cia-cib', 'cib-cic', 'cic-cid', 'cid-cie']}, {'total_streets': 8, 'street_names': ['ejj-eaj', 'eaj-eba', 'eba-ebb', 'ebb-ebc', 'ebc-ebd', 'ebd-ebe', 'ebe-ebf', 'ebf-ebg']}, {'total_streets': 10, 'street_names': ['ebc-ebd', 'ebd-ebe', 'ebe-ebf', 'ebf-ebg', 'ebg-ebh', 'ebh-ebi', 'ebi-ebj', 'ebj-eca', 'eca-ejj', 'ejj-bbd']}, {'total_streets': 5, 'street_names': ['dci-ejj', 'ejj-bgf', 'bgf-bgg', 'bgg-bgh', 'bgh-bgi']}, {'total_streets': 10, 'street_names': ['cii-cij', 'cij-cja', 'cja-cjb', 'cjb-cjc', 'cjc-cjd', 'cjd-cje', 'cje-ejj', 'ejj-bf', 'bf-bg', 'bg-bh']}, {'total_streets': 4, 'street_names': ['che-ejj', 'ejj-cdb', 'cdb-cdc', 'cdc-cdd']}, {'total_streets': 3, 'street_names': ['cbg-ejj', 'ejj-cdh', 'cdh-cdi']}, {'total_streets': 2, 'street_names': ['eag-ejj', 'ejj-cah']}, {'total_streets': 8, 'street_names': ['ejj-cj', 'cj-da', 'da-db', 'db-dc', 'dc-dd', 'dd-de', 'de-df', 'df-dg']}, {'total_streets': 3, 'street_names': ['ejj-ejb', 'ejb-ejc', 'ejc-ejd']}, {'total_streets': 8, 'street_names': ['ccb-ccc', 'ccc-ejj', 'ejj-dgd', 'dgd-dge', 'dge-dgf', 'dgf-dgg', 'dgg-dgh', 'dgh-dgi']}, {'total_streets': 6, 'street_names': ['eig-eih', 'eih-eii', 'eii-ejj', 'ejj-dij', 'dij-dja', 'dja-djb']}, {'total_streets': 9, 'street_names': ['ejj-cdj', 'cdj-cea', 'cea-ceb', 'ceb-cec', 'cec-ced', 'ced-cee', 'cee-cef', 'cef-ceg', 'ceg-ceh']}, {'total_streets': 6, 'street_names': ['cca-ccb', 'ccb-ccc', 'ccc-ccd', 'ccd-cce', 'cce-ccf', 'ccf-ccg']}, {'total_streets': 10, 'street_names': ['ejj-cbf', 'cbf-cbg', 'cbg-cbh', 'cbh-cbi', 'cbi-cbj', 'cbj-cca', 'cca-ccb', 'ccb-ccc', 'ccc-ccd', 'ccd-cce']}, {'total_streets': 6, 'street_names': ['cbj-cca', 'cca-ccb', 'ccb-ccc', 'ccc-ejj', 'ejj-cjj', 'cjj-daa']}, {'total_streets': 3, 'street_names': ['cji-cjj', 'cjj-daa', 'daa-dab']}, {'total_streets': 6, 'street_names': ['ddj-dea', 'dea-ejj', 'ejj-deb', 'deb-dec', 'dec-ded', 'ded-dee']}, {'total_streets': 2, 'street_names': ['ejj-ij', 'ij-ja']}, {'total_streets': 7, 'street_names': ['ejj-ih', 'ih-ii', 'ii-ij', 'ij-ja', 'ja-jb', 'jb-jc', 'jc-jd']}, {'total_streets': 8, 'street_names': ['ejj-ejd', 'ejd-eje', 'eje-ejf', 'ejf-ejg', 'ejg-ejh', 'ejh-eji', 'eji-a', 'a-b']}, {'total_streets': 8, 'street_names': ['chc-ejj', 'ejj-edb', 'edb-edc', 'edc-edd', 'edd-ede', 'ede-edf', 'edf-edg', 'edg-edh']}, {'total_streets': 7, 'street_names': ['fc-fd', 'fd-fe', 'fe-ejj', 'ejj-cbj', 'cbj-cca', 'cca-ccb', 'ccb-ccc']}, {'total_streets': 9, 'street_names': ['bfi-ejj', 'ejj-dff', 'dff-dfg', 'dfg-dfh', 'dfh-dfi', 'dfi-dfj', 'dfj-dga', 'dga-dgb', 'dgb-dgc']}, {'total_streets': 6, 'street_names': ['bab-bac', 'bac-bad', 'bad-bae', 'bae-ejj', 'ejj-cbj', 'cbj-cca']}, {'total_streets': 4, 'street_names': ['bch-bci', 'bci-ejj', 'ejj-ebd', 'ebd-ebe']}, {'total_streets': 10, 'street_names': ['cdd-cde', 'cde-cdf', 'cdf-cdg', 'cdg-ejj', 'ejj-cf', 'cf-cg', 'cg-ch', 'ch-ci', 'ci-cj', 'cj-da']}, {'total_streets': 9, 'street_names': ['eji-a', 'a-ejj', 'ejj-dgj', 'dgj-dha', 'dha-dhb', 'dhb-dhc', 'dhc-dhd', 'dhd-dhe', 'dhe-dhf']}, {'total_streets': 8, 'street_names': ['cdj-cea', 'cea-ceb', 'ceb-cec', 'cec-ejj', 'ejj-dhh', 'dhh-dhi', 'dhi-dhj', 'dhj-dia']}, {'total_streets': 6, 'street_names': ['dij-dja', 'dja-djb', 'djb-djc', 'djc-ejj', 'ejj-dhd', 'dhd-dhe']}, {'total_streets': 5, 'street_names': ['bac-ejj', 'ejj-cgh', 'cgh-cgi', 'cgi-cgj', 'cgj-cha']}, {'total_streets': 10, 'street_names': ['gg-ejj', 'ejj-ebd', 'ebd-ebe', 'ebe-ebf', 'ebf-ebg', 'ebg-ebh', 'ebh-ebi', 'ebi-ebj', 'ebj-eca', 'eca-ecb']}, {'total_streets': 10, 'street_names': ['ejj-ecf', 'ecf-ecg', 'ecg-ech', 'ech-eci', 'eci-ecj', 'ecj-eda', 'eda-edb', 'edb-edc', 'edc-edd', 'edd-ede']}, {'total_streets': 10, 'street_names': ['beh-bei', 'bei-ejj', 'ejj-ehb', 'ehb-ehc', 'ehc-ehd', 'ehd-ehe', 'ehe-ehf', 'ehf-ehg', 'ehg-ehh', 'ehh-ehi']}, {'total_streets': 8, 'street_names': ['ejj-eh', 'eh-ei', 'ei-ej', 'ej-fa', 'fa-fb', 'fb-fc', 'fc-fd', 'fd-fe']}, {'total_streets': 7, 'street_names': ['ejj-h', 'h-i', 'i-j', 'j-ba', 'ba-bb', 'bb-bc', 'bc-bd']}, {'total_streets': 9, 'street_names': ['egg-ejj', 'ejj-cih', 'cih-cii', 'cii-cij', 'cij-cja', 'cja-cjb', 'cjb-cjc', 'cjc-cjd', 'cjd-cje']}, {'total_streets': 5, 'street_names': ['ha-ejj', 'ejj-jd', 'jd-je', 'je-jf', 'jf-jg']}, {'total_streets': 8, 'street_names': ['bdd-bde', 'bde-bdf', 'bdf-bdg', 'bdg-bdh', 'bdh-bdi', 'bdi-ejj', 'ejj-ehj', 'ehj-eia']}, {'total_streets': 9, 'street_names': ['bha-ejj', 'ejj-bij', 'bij-bja', 'bja-bjb', 'bjb-bjc', 'bjc-bjd', 'bjd-bje', 'bje-bjf', 'bjf-bjg']}, {'total_streets': 5, 'street_names': ['dac-dad', 'dad-dae', 'dae-daf', 'daf-dag', 'dag-ejj']}, {'total_streets': 9, 'street_names': ['dfg-ejj', 'ejj-dbb', 'dbb-dbc', 'dbc-dbd', 'dbd-dbe', 'dbe-dbf', 'dbf-dbg', 'dbg-dbh', 'dbh-dbi']}, {'total_streets': 8, 'street_names': ['bdg-ejj', 'ejj-dcj', 'dcj-dda', 'dda-ddb', 'ddb-ddc', 'ddc-ddd', 'ddd-dde', 'dde-ddf']}, {'total_streets': 2, 'street_names': ['ejj-dh', 'dh-di']}, {'total_streets': 5, 'street_names': ['dcj-dda', 'dda-ejj', 'ejj-djb', 'djb-djc', 'djc-djd']}, {'total_streets': 4, 'street_names': ['cjc-ejj', 'ejj-daj', 'daj-dba', 'dba-dbb']}, {'total_streets': 3, 'street_names': ['ejj-bh', 'bh-bi', 'bi-bj']}, {'total_streets': 3, 'street_names': ['ejj-djj', 'djj-eaa', 'eaa-eab']}, {'total_streets': 8, 'street_names': ['cef-ceg', 'ceg-ejj', 'ejj-chb', 'chb-chc', 'chc-chd', 'chd-che', 'che-chf', 'chf-chg']}, {'total_streets': 8, 'street_names': ['ia-ejj', 'ejj-cjf', 'cjf-cjg', 'cjg-cjh', 'cjh-cji', 'cji-cjj', 'cjj-daa', 'daa-dab']}, {'total_streets': 2, 'street_names': ['eji-a', 'a-b']}, {'total_streets': 7, 'street_names': ['dei-ejj', 'ejj-cdj', 'cdj-cea', 'cea-ceb', 'ceb-cec', 'cec-ced', 'ced-cee']}, {'total_streets': 2, 'street_names': ['bjg-bjh', 'bjh-bji']}, {'total_streets': 5, 'street_names': ['ge-ejj', 'ejj-dgf', 'dgf-dgg', 'dgg-dgh', 'dgh-dgi']}, {'total_streets': 9, 'street_names': ['dgf-dgg', 'dgg-dgh', 'dgh-dgi', 'dgi-ejj', 'ejj-cfj', 'cfj-cga', 'cga-cgb', 'cgb-cgc', 'cgc-cgd']}, {'total_streets': 8, 'street_names': ['ejj-dh', 'dh-di', 'di-dj', 'dj-ea', 'ea-eb', 'eb-ec', 'ec-ed', 'ed-ee']}, {'total_streets': 3, 'street_names': ['ejj-dhf', 'dhf-dhg', 'dhg-dhh']}, {'total_streets': 7, 'street_names': ['hi-ejj', 'ejj-gb', 'gb-gc', 'gc-gd', 'gd-ge', 'ge-gf', 'gf-gg']}, {'total_streets': 8, 'street_names': ['ejj-efj', 'efj-ega', 'ega-egb', 'egb-egc', 'egc-egd', 'egd-ege', 'ege-egf', 'egf-egg']}, {'total_streets': 2, 'street_names': ['egf-egg', 'egg-ejj']}, {'total_streets': 10, 'street_names': ['dc-ejj', 'ejj-chf', 'chf-chg', 'chg-chh', 'chh-chi', 'chi-chj', 'chj-cia', 'cia-cib', 'cib-cic', 'cic-cid']}, {'total_streets': 5, 'street_names': ['beh-bei', 'bei-ejj', 'ejj-eef', 'eef-eeg', 'eeg-eeh']}, {'total_streets': 4, 'street_names': ['eia-ejj', 'ejj-dij', 'dij-dja', 'dja-djb']}, {'total_streets': 8, 'street_names': ['dag-dah', 'dah-dai', 'dai-daj', 'daj-dba', 'dba-dbb', 'dbb-dbc', 'dbc-dbd', 'dbd-dbe']}, {'total_streets': 2, 'street_names': ['ejj-deb', 'deb-dec']}, {'total_streets': 2, 'street_names': ['dib-dic', 'dic-did']}, {'total_streets': 2, 'street_names': ['edh-edi', 'edi-ejj']}, {'total_streets': 7, 'street_names': ['bja-ejj', 'ejj-ebh', 'ebh-ebi', 'ebi-ebj', 'ebj-eca', 'eca-ecb', 'ecb-ecc']}, {'total_streets': 9, 'street_names': ['ejj-ehj', 'ehj-eia', 'eia-eib', 'eib-eic', 'eic-eid', 'eid-eie', 'eie-eif', 'eif-eig', 'eig-eih']}, {'total_streets': 4, 'street_names': ['cfa-cfb', 'cfb-cfc', 'cfc-cfd', 'cfd-cfe']}, {'total_streets': 4, 'street_names': ['da-db', 'db-dc', 'dc-ejj', 'ejj-dbb']}, {'total_streets': 10, 'street_names': ['ejj-cch', 'cch-cci', 'cci-ccj', 'ccj-cda', 'cda-cdb', 'cdb-cdc', 'cdc-cdd', 'cdd-cde', 'cde-cdf', 'cdf-cdg']}, {'total_streets': 5, 'street_names': ['ec-ed', 'ed-ee', 'ee-ejj', 'ejj-dhb', 'dhb-dhc']}, {'total_streets': 8, 'street_names': ['ejj-egh', 'egh-egi', 'egi-egj', 'egj-eha', 'eha-ehb', 'ehb-ehc', 'ehc-ehd', 'ehd-ehe']}, {'total_streets': 9, 'street_names': ['dib-dic', 'dic-did', 'did-die', 'die-ejj', 'ejj-ejb', 'ejb-ejc', 'ejc-ejd', 'ejd-eje', 'eje-ejf']}, {'total_streets': 5, 'street_names': ['dij-dja', 'dja-djb', 'djb-djc', 'djc-djd', 'djd-dje']}, {'total_streets': 3, 'street_names': ['je-jf', 'jf-jg', 'jg-ejj']}, {'total_streets': 6, 'street_names': ['bii-ejj', 'ejj-bdj', 'bdj-bea', 'bea-beb', 'beb-bec', 'bec-bed']}, {'total_streets': 4, 'street_names': ['bhh-bhi', 'bhi-bhj', 'bhj-bia', 'bia-ejj']}, {'total_streets': 7, 'street_names': ['eag-eah', 'eah-eai', 'eai-ejj', 'ejj-cbh', 'cbh-cbi', 'cbi-cbj', 'cbj-cca']}, {'total_streets': 3, 'street_names': ['ejj-ebj', 'ebj-eca', 'eca-ecb']}, {'total_streets': 7, 'street_names': ['ejj-ccd', 'ccd-cce', 'cce-ccf', 'ccf-ccg', 'ccg-cch', 'cch-cci', 'cci-ccj']}, {'total_streets': 4, 'street_names': ['bac-ejj', 'ejj-djh', 'djh-dji', 'dji-djj']}, {'total_streets': 5, 'street_names': ['ejj-dbj', 'dbj-dca', 'dca-dcb', 'dcb-dcc', 'dcc-dcd']}, {'total_streets': 8, 'street_names': ['bef-beg', 'beg-ejj', 'ejj-dbd', 'dbd-dbe', 'dbe-dbf', 'dbf-dbg', 'dbg-dbh', 'dbh-dbi']}, {'total_streets': 6, 'street_names': ['chg-ejj', 'ejj-cid', 'cid-cie', 'cie-cif', 'cif-cig', 'cig-cih']}]\n"
     ]
    }
   ],
   "source": [
    "duration, nintersections, nstreets, ncars, bonus, streets, cars, intersections = parse_data(A)\n",
    "# printD(streets)\n",
    "print(cars)\n",
    "# printD(intersections)"
   ]
  },
  {
   "cell_type": "markdown",
   "metadata": {},
   "source": [
    "### SOLVE"
   ]
  },
  {
   "cell_type": "code",
   "execution_count": 23,
   "metadata": {},
   "outputs": [],
   "source": [
    "def output_solution(fn, res):\n",
    "    output = \"out_%s\" % fn\n",
    "    with open(output, \"w\", encoding=\"utf-8\") as file:\n",
    "        file.write(\"%d\\n\" % len(res))\n",
    "        for r in res:\n",
    "            total_streets =  len(r[1])\n",
    "            file.write(\"%d\\n%d\\n\" % (r[0], total_streets)) # #incomingStreets\n",
    "            for street, street_duration in r[1]:\n",
    "                file.write(\"%s %d\\n\" % (street, street_duration))"
   ]
  },
  {
   "cell_type": "code",
   "execution_count": 24,
   "metadata": {},
   "outputs": [],
   "source": [
    "def get_street_weights(cars):\n",
    "    # for each street, return the number of cars passing there\n",
    "    street_weights = defaultdict(int)\n",
    "    for c in cars:\n",
    "        for s in c[\"street_names\"]:\n",
    "            street_weights[s]+=1\n",
    "    return street_weights\n",
    "street_weights = get_street_weights(cars)\n",
    "# printD(street_weights)"
   ]
  },
  {
   "cell_type": "code",
   "execution_count": 25,
   "metadata": {},
   "outputs": [],
   "source": [
    "def get_street_weights_by_car_time(cars, sorted_arrivals):\n",
    "    # for each street, return the number of cars passing there\n",
    "    slowest_time = max(sorted_arrivals, key=lambda x: x[1])[1]\n",
    "    sorted_arrivals_dict = dict(sorted_arrivals)\n",
    "    street_weights = defaultdict(int)\n",
    "    for i, c in enumerate(cars):\n",
    "        for s in c[\"street_names\"]:\n",
    "            street_weights[s]+=sorted_arrivals_dict[i]//slowest_time\n",
    "    return street_weights\n",
    "street_weights = get_street_weights(cars)\n",
    "# printD(street_weights)"
   ]
  },
  {
   "cell_type": "code",
   "execution_count": 26,
   "metadata": {},
   "outputs": [],
   "source": [
    "def get_street_weights_by_soonest(cars):\n",
    "    # for each street, return the number of cars passing there\n",
    "    street_weights = defaultdict(int)\n",
    "    for c in cars:\n",
    "        for i, s in enumerate(c[\"street_names\"]):\n",
    "            street_weights[s]+=i//len(c[\"street_names\"])\n",
    "    return street_weights\n",
    "street_weights = get_street_weights(cars)\n",
    "# printD(street_weights)"
   ]
  },
  {
   "cell_type": "code",
   "execution_count": 27,
   "metadata": {},
   "outputs": [
    {
     "data": {
      "text/plain": [
       "[('rue-de-londres', 1), ('rue-d-amsterdam', 1)]"
      ]
     },
     "execution_count": 27,
     "metadata": {},
     "output_type": "execute_result"
    }
   ],
   "source": [
    "def get_street_weights_distribution(street_weights, street_names):\n",
    "    # given the most important streets, get the ideal traffic light duration\n",
    "    weight = street_weights[street_names[0]]\n",
    "    for s in street_names[1:]:\n",
    "        weight = math.gcd(weight, street_weights[s])\n",
    "    distribution = []\n",
    "\n",
    "    if weight== 0: # edge cases\n",
    "        for s in street_names:\n",
    "            distribution.append((s, 1))\n",
    "    else:\n",
    "        for s in street_names:\n",
    "            distribution.append((s, max(1, street_weights[s]//weight)))\n",
    "#             distribution.append((s, max(1, (street_weights[s]//weight)//2)))\n",
    "#         random.shuffle(distribution)\n",
    "    return distribution\n",
    "\n",
    "get_street_weights_distribution(street_weights, [\"rue-de-londres\", \"rue-d-amsterdam\"])"
   ]
  },
  {
   "cell_type": "code",
   "execution_count": null,
   "metadata": {},
   "outputs": [],
   "source": [
    "def get_slow_cars(*args):\n",
    "    # how many cars that do not reach the end, list of car lengths\n",
    "    duration, nintersections, nstreets, ncars, bonus, streets, cars, intersections = args\n",
    "\n",
    "    def car_duration(car, streets):\n",
    "        return sum([streets[street][\"duration\"] for street in car[\"street_names\"]])\n",
    "    \n",
    "    car_durations = [(i, car_duration(car, streets)) for (i, car) in enumerate(cars)]\n",
    "    useless_cars = [i for (i, c_duration) in enumerate(car_durations) if c_duration[1] > 1.0 * duration]\n",
    "    return (len(useless_cars), useless_cars, car_durations)\n",
    "print(get_slow_cars(*parse_data(A))[2])"
   ]
  },
  {
   "cell_type": "code",
   "execution_count": 29,
   "metadata": {},
   "outputs": [],
   "source": [
    "def get_street_weights_by_common_streets(cars):\n",
    "    # for each street, return the number of cars passing there\n",
    "    street_weights = defaultdict(int)\n",
    "    \n",
    "    streets = {}\n",
    "    for car in cars:\n",
    "        for street in car[\"street_names\"]:\n",
    "            streets[street] = streets.get(street, 0) + 1\n",
    "\n",
    "    common = streets\n",
    "    items = list(common.items())\n",
    "    items = [(c, street) for (street, c) in items]\n",
    "    items.sort(reverse = True)\n",
    "    items = {s:score for score, s in items}\n",
    "    \n",
    "    for i, c in enumerate(cars):\n",
    "        for s in c[\"street_names\"]:\n",
    "            street_weights[s]+=items[s]\n",
    "    return street_weights"
   ]
  },
  {
   "cell_type": "code",
   "execution_count": null,
   "metadata": {},
   "outputs": [],
   "source": [
    "n_slow_cars, slow_cars, car_durations = get_slow_cars(*parse_data(B))\n",
    "print(sum([c[1] for c in car_durations])/len(car_durations)) # average time\n",
    "print(sorted(car_durations, key=lambda x: x[1]))\n",
    "print(car_durations)"
   ]
  },
  {
   "cell_type": "code",
   "execution_count": 31,
   "metadata": {},
   "outputs": [],
   "source": [
    "sorted_arrivals = sorted(car_durations, key=lambda x: x[1])\n",
    "# dict(sorted_arrivals)"
   ]
  },
  {
   "cell_type": "code",
   "execution_count": 32,
   "metadata": {},
   "outputs": [
    {
     "name": "stdout",
     "output_type": "stream",
     "text": [
      "Solving e.txt...\n",
      "...Done\n"
     ]
    }
   ],
   "source": [
    "def solve(current_file, *args):\n",
    "    RES = [] # list of (ID of intersection, schedule: [street_name, duration]]\n",
    "    # GET DATA FROM ARGS\n",
    "    duration, nintersections, nstreets, ncars, bonus, streets, cars, intersections = args\n",
    "    ALL_SETS = set(range(0, nintersections))\n",
    "    \n",
    "    # SOLVE\n",
    "    # remove useless cars (E only)\n",
    "    if current_file == \"ex.txt\": # only one\n",
    "        cars2 = []\n",
    "        n_slow_cars, slow_cars, car_durations = get_slow_cars(*args)\n",
    "        slow_cars = set(slow_cars)\n",
    "        for i, car in enumerate(cars):\n",
    "            if i not in slow_cars:\n",
    "                cars2.append(car)\n",
    "        print(\"Cars before %d, cars after %d (remove slow cars)\" % (len(cars), len(cars2)))\n",
    "        cars = cars2\n",
    "    \n",
    "    n_slow_cars, slow_cars, car_durations = get_slow_cars(*args) # refresh\n",
    "    \n",
    "    # always_green\n",
    "    intersections_done = set()\n",
    "    for intersection_id, incoming_street in always_green(streets):\n",
    "        intersections_done.add(intersection_id)\n",
    "        RES.append([intersection_id, [(incoming_street, duration)]])\n",
    "        \n",
    "    \n",
    "    # sort cars by arrival time (fastest first): (index, duration)\n",
    "    sorted_arrivals = sorted(car_durations, key=lambda x: x[1])\n",
    "    \n",
    "    # get street weights (how many times used)\n",
    "    #street_weights = get_street_weights(cars)\n",
    "    #street_weights = get_street_weights_by_common_streets(cars)\n",
    "    #street_weights = get_street_weights_by_soonest(cars)\n",
    "    #street_weights = get_street_weights_by_car_time(cars, sorted_arrivals)\n",
    "    # not assigned\n",
    "    not_assigned = ALL_SETS - intersections_done\n",
    "    for intersection_id in not_assigned:\n",
    "        in_streets = intersections[intersection_id]\n",
    "#         if current_file == \"d.txt\": \n",
    "#             RES.append([intersection_id, [(street, 1) for street in in_streets]])\n",
    "#         else:\n",
    "        RES.append([intersection_id, get_street_weights_distribution(street_weights, in_streets)])\n",
    "\n",
    "    \n",
    "    \n",
    "    \n",
    "#     \n",
    "#     print(RES)\n",
    "    # RETURN\n",
    "    return RES\n",
    "solve_one(A, solve)"
   ]
  },
  {
   "cell_type": "code",
   "execution_count": 33,
   "metadata": {},
   "outputs": [
    {
     "name": "stdout",
     "output_type": "stream",
     "text": [
      "Solving e.txt...\n",
      "...Done\n",
      "Solving c.txt...\n",
      "...Done\n",
      "Solving d.txt...\n",
      "...Done\n",
      "Solving a.txt...\n",
      "...Done\n",
      "Solving f.txt...\n",
      "...Done\n",
      "Solving b.txt...\n",
      "...Done\n"
     ]
    }
   ],
   "source": [
    "solve_all()"
   ]
  },
  {
   "cell_type": "markdown",
   "metadata": {},
   "source": [
    "#### Other testing-debugging things"
   ]
  },
  {
   "cell_type": "code",
   "execution_count": 274,
   "metadata": {},
   "outputs": [
    {
     "name": "stdout",
     "output_type": "stream",
     "text": [
      "a.txt\n",
      "duration, nintersections, nstreets, ncars, bonus\n",
      "6 4 5 2 1000\n",
      "\n",
      "b.txt\n",
      "duration, nintersections, nstreets, ncars, bonus\n",
      "5070 7073 9102 1000 1000\n",
      "\n",
      "c.txt\n",
      "duration, nintersections, nstreets, ncars, bonus\n",
      "1640 10000 35030 1000 100\n",
      "\n",
      "d.txt\n",
      "duration, nintersections, nstreets, ncars, bonus\n",
      "8071 8000 95928 1000 1000\n",
      "\n",
      "e.txt\n",
      "duration, nintersections, nstreets, ncars, bonus\n",
      "676 500 998 1000 500\n",
      "\n",
      "f.txt\n",
      "duration, nintersections, nstreets, ncars, bonus\n",
      "1992 1662 10000 1000 500\n",
      "\n"
     ]
    }
   ],
   "source": [
    "for FILE in in_files:\n",
    "    print(FILE)\n",
    "    duration, nintersections, nstreets, ncars, bonus, streets, cars, intersections = parse_data(FILE)\n",
    "    print(\"duration, nintersections, nstreets, ncars, bonus\")\n",
    "    print(duration, nintersections, nstreets, ncars, bonus)\n",
    "    print()\n"
   ]
  },
  {
   "cell_type": "code",
   "execution_count": 18,
   "metadata": {},
   "outputs": [],
   "source": [
    "for FILE in in_files:\n",
    "    out_file = \"out_%s.out\" % FILE\n",
    "    display(FileLink(out_file))"
   ]
  },
  {
   "cell_type": "markdown",
   "metadata": {},
   "source": [
    "### Test code"
   ]
  },
  {
   "cell_type": "code",
   "execution_count": null,
   "metadata": {},
   "outputs": [],
   "source": [
    "solve_one(A, solve)"
   ]
  }
 ],
 "metadata": {
  "kernelspec": {
   "display_name": "Python 3",
   "language": "python",
   "name": "python3"
  },
  "language_info": {
   "codemirror_mode": {
    "name": "ipython",
    "version": 3
   },
   "file_extension": ".py",
   "mimetype": "text/x-python",
   "name": "python",
   "nbconvert_exporter": "python",
   "pygments_lexer": "ipython3",
   "version": "3.8.5"
  }
 },
 "nbformat": 4,
 "nbformat_minor": 4
}
